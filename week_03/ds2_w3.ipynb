{
  "nbformat": 4,
  "nbformat_minor": 0,
  "metadata": {
    "colab": {
      "provenance": []
    },
    "kernelspec": {
      "name": "python3",
      "display_name": "Python 3"
    },
    "language_info": {
      "name": "python"
    }
  },
  "cells": [
    {
      "cell_type": "markdown",
      "source": [
        "<h1> LinkedList, Queue and Stacks </h1> "
      ],
      "metadata": {
        "id": "LCMIJxp8pJZ2"
      }
    },
    {
      "cell_type": "markdown",
      "source": [
        "&#128075; &#x1F600; Hello everyone, I'm Vilson &#129312;\n",
        "\n",
        "In the this 03-week, I solved few questions about LinkedList, Queue and Stacks\n",
        "\n",
        "This notebook was writed with questions descriptions and anwsers\n",
        "\n",
        "Unit tests checks my solutions \n",
        "\n",
        "The original notebook are [here](https://github.com/ivanovitchm/datastructure/blob/main/lessons/week_03/Code_Interview_Linked_Queue_Stacks.ipynb) \n",
        "\n"
      ],
      "metadata": {
        "id": "97ofydSAp0o1"
      }
    },
    {
      "cell_type": "markdown",
      "source": [
        "## Dependencies"
      ],
      "metadata": {
        "id": "pf1Ao-EtuVeF"
      }
    },
    {
      "cell_type": "code",
      "source": [
        "try:\n",
        "    import pytest\n",
        "except:    \n",
        "    # install dependencies\n",
        "    !pip install pytest pytest-sugar\n",
        "    import pytest"
      ],
      "metadata": {
        "id": "7cRN80r2rDCK"
      },
      "execution_count": 2,
      "outputs": []
    },
    {
      "cell_type": "markdown",
      "source": [
        "## Warming-up"
      ],
      "metadata": {
        "id": "f8oBuJ1vyXNJ"
      }
    },
    {
      "cell_type": "code",
      "source": [
        "\n",
        "# Sample Input\n",
        "array = [3,5,-4,8,11,1,-1,6]\n",
        "target = 10\n",
        "\n",
        "# Sample Output\n",
        "# [-1, 11]\n",
        "     "
      ],
      "metadata": {
        "id": "0HqCJmAWycEl"
      },
      "execution_count": 3,
      "outputs": []
    },
    {
      "cell_type": "code",
      "source": [
        "%%file test_twoNumberSum_solution.py\n",
        "import pytest\n",
        "\n",
        "def twoNumberSum(array, targetSum):\n",
        "  \"\"\"\n",
        "  Description:\n",
        "  A function that take in a non-empty array of distinct integers\n",
        "  and an integer representing a target sum. If any two numbers \n",
        "  in the input array sum up to the target sum, the function should\n",
        "  return then in an array, in any order. \n",
        "  If no two numbers sum up to the target sum, \n",
        "  the function should return an empty array.\n",
        "\n",
        "  Parameters:\n",
        "  array : list of integers\n",
        "  targetSum : integer representing a target sum\n",
        "\n",
        "  Return:\n",
        "  Interger pair which sum is equal to targetSum\n",
        "  empty otherwise\n",
        "  \"\"\"\n",
        "  for i in range(len(array) - 1):\n",
        "    firstNum = array[i]\n",
        "    for j in range (i+1, len(array)):\n",
        "      secondNum = array[j]\n",
        "      if firstNum + secondNum == targetSum:\n",
        "        return [firstNum, secondNum]\n",
        "  return []\n",
        "\n",
        "@pytest.fixture(scope=\"session\")\n",
        "def data():\n",
        "    \n",
        "    array = []\n",
        "    \n",
        "    # test 1 data\n",
        "    array.append([3, 5, -4, 8, 11, 1, -1, 6])\n",
        "\n",
        "    # test 2 data\n",
        "    array.append([4, 6, 1, -3])\n",
        "\n",
        "    # test 3 data\n",
        "    array.append([1, 2, 3, 4, 5, 6, 7, 8, 9, 15])\n",
        "\n",
        "    # test 4 data\n",
        "    array.append([15])\n",
        "\n",
        "    # test 5 data\n",
        "    array.append([-21, 301, 12, 4, 65, 56, 210, 356, 9, -47])\n",
        "\n",
        "    # test 6 data\n",
        "    array.append([-21, 301, 12, 4, 65, 56, 210, 356, 9, -47])\n",
        "\n",
        "    # test 7 data\n",
        "    array.append([-7, -5, -3, -1, 0, 1, 3, 5, 7])\n",
        "    \n",
        "    return array\n",
        "\n",
        "def test_1(data):\n",
        "    \"\"\"\n",
        "    Test evaluation for [3, 5, -4, 8, 11, 1, -1, 6] and target 10\n",
        "    \"\"\"\n",
        "    assert twoNumberSum(data[0],10) == [11,-1]\n",
        "\n",
        "\n",
        "def test_2(data):\n",
        "    \"\"\"\n",
        "    Test evaluation for [4, 6, 1, -3] and target 3\n",
        "    \"\"\"\n",
        "    assert twoNumberSum(data[1],3) == [6,-3]\n",
        "\n",
        "def test_3(data):\n",
        "    \"\"\"\n",
        "    Test evaluation for [1, 2, 3, 4, 5, 6, 7, 8, 9, 15] and target 26\n",
        "    \"\"\"\n",
        "    assert twoNumberSum(data[2],26) == []\n",
        "\n",
        "def test_4(data):\n",
        "    \"\"\"\n",
        "    Test evaluation for [15] and target 15\n",
        "    \"\"\"\n",
        "    assert twoNumberSum(data[3],15) == []\n",
        "\n",
        "def test_5(data):\n",
        "    \"\"\"\n",
        "    Test evaluation for [-21, 301, 12, 4, 65, 56, 210, 356, 9, -47] and target 164\n",
        "    \"\"\"\n",
        "    assert twoNumberSum(data[4],164) == [] \n",
        "\n",
        "def test_6(data):\n",
        "    \"\"\"\n",
        "    Test evaluation for [-21, 301, 12, 4, 65, 56, 210, 356, 9, -47] and target 163\n",
        "    \"\"\"\n",
        "    assert twoNumberSum(data[5],163) == [210, -47] \n",
        "\n",
        "def test_7(data):\n",
        "    \"\"\"\n",
        "    Test evaluation for [-7, -5, -3, -1, 0, 1, 3, 5, 7] and target -5\n",
        "    \"\"\"\n",
        "    assert twoNumberSum(data[6],-5) == [-5, 0]"
      ],
      "metadata": {
        "colab": {
          "base_uri": "https://localhost:8080/"
        },
        "id": "qGQuubVuy6pO",
        "outputId": "505db08d-31ef-4d00-d86f-68564ddff56c"
      },
      "execution_count": 4,
      "outputs": [
        {
          "output_type": "stream",
          "name": "stdout",
          "text": [
            "Writing test_twoNumberSum_solution.py\n"
          ]
        }
      ]
    },
    {
      "cell_type": "code",
      "source": [
        "!pytest test_twoNumberSum_solution.py -vv"
      ],
      "metadata": {
        "colab": {
          "base_uri": "https://localhost:8080/"
        },
        "id": "qgn9xmI4y_dt",
        "outputId": "39e8ad98-0848-4bb4-b6b1-d1914a7198a5"
      },
      "execution_count": 5,
      "outputs": [
        {
          "output_type": "stream",
          "name": "stdout",
          "text": [
            "\u001b[1m============================= test session starts ==============================\u001b[0m\n",
            "platform linux -- Python 3.9.16, pytest-7.2.2, pluggy-1.0.0 -- /usr/bin/python3\n",
            "cachedir: .pytest_cache\n",
            "rootdir: /content\n",
            "plugins: anyio-3.6.2\n",
            "\u001b[1mcollecting ... \u001b[0m\u001b[1m\rcollected 7 items                                                              \u001b[0m\n",
            "\n",
            "test_twoNumberSum_solution.py::test_1 \u001b[32mPASSED\u001b[0m\u001b[32m                             [ 14%]\u001b[0m\n",
            "test_twoNumberSum_solution.py::test_2 \u001b[32mPASSED\u001b[0m\u001b[32m                             [ 28%]\u001b[0m\n",
            "test_twoNumberSum_solution.py::test_3 \u001b[32mPASSED\u001b[0m\u001b[32m                             [ 42%]\u001b[0m\n",
            "test_twoNumberSum_solution.py::test_4 \u001b[32mPASSED\u001b[0m\u001b[32m                             [ 57%]\u001b[0m\n",
            "test_twoNumberSum_solution.py::test_5 \u001b[32mPASSED\u001b[0m\u001b[32m                             [ 71%]\u001b[0m\n",
            "test_twoNumberSum_solution.py::test_6 \u001b[32mPASSED\u001b[0m\u001b[32m                             [ 85%]\u001b[0m\n",
            "test_twoNumberSum_solution.py::test_7 \u001b[32mPASSED\u001b[0m\u001b[32m                             [100%]\u001b[0m\n",
            "\n",
            "\u001b[32m============================== \u001b[32m\u001b[1m7 passed\u001b[0m\u001b[32m in 0.03s\u001b[0m\u001b[32m ===============================\u001b[0m\n"
          ]
        }
      ]
    },
    {
      "cell_type": "markdown",
      "source": [
        "## 1.0 Doubly Linked Lists"
      ],
      "metadata": {
        "id": "GrS_LWow1Won"
      }
    },
    {
      "cell_type": "markdown",
      "source": [
        "### Define Classes"
      ],
      "metadata": {
        "id": "qRy2OEuzTnep"
      }
    },
    {
      "cell_type": "markdown",
      "source": [
        "For all Linked List-related questions, unless specified otherwise, assume the Linked List and Node classes defined below."
      ],
      "metadata": {
        "id": "xxvzyU7Y1htn"
      }
    },
    {
      "cell_type": "code",
      "source": [
        "# To produce the file linkedlist.py, please remove the comment symbol '#' from the beginning of the line below.\n",
        "%%file linkedlist.py\n",
        "\n",
        "class Node:\n",
        "    \"\"\"A class representing a node in a doubly linked list.\"\"\"\n",
        "\n",
        "    def __init__(self, data):\n",
        "        \"\"\"Initialize a new node with the given data.\"\"\"\n",
        "        self.data = data\n",
        "        self.prev = None\n",
        "        self.next = None\n",
        "\n",
        "class LinkedList:\n",
        "    \"\"\"A class representing a doubly linked list.\"\"\"\n",
        "\n",
        "    def __init__(self):\n",
        "        \"\"\"Initialize an empty linked list.\"\"\"\n",
        "        self.head = None\n",
        "        self.tail = None\n",
        "        self.length = 0\n",
        "        \n",
        "    def append(self, data):\n",
        "        \"\"\"Add a new node with the given data to the end of the linked list.\"\"\"\n",
        "        new_node = Node(data)\n",
        "        if self.length == 0:\n",
        "            self.head = self.tail = new_node\n",
        "        else:\n",
        "            self.tail.next = new_node\n",
        "            new_node.prev = self.tail\n",
        "            self.tail = new_node\n",
        "        self.length += 1\n",
        "        \n",
        "    def __iter__(self):\n",
        "        \"\"\"Return an iterator for the linked list.\"\"\"\n",
        "        self._iter_node = self.head\n",
        "        return self \n",
        "    \n",
        "    def __next__(self):\n",
        "        \"\"\"Return the next value in the linked list.\"\"\"\n",
        "        if self._iter_node is None:\n",
        "            raise StopIteration\n",
        "        ret = self._iter_node.data\n",
        "        self._iter_node = self._iter_node.next\n",
        "        return ret\n",
        "    \n",
        "    def prepend(self, data):\n",
        "        \"\"\"Add a new node with the given data to the beginning of the linked list.\"\"\"\n",
        "        new_node = Node(data)\n",
        "        if self.length == 0:\n",
        "            self.head = self.tail = new_node\n",
        "        else:\n",
        "            self.head.prev = new_node\n",
        "            new_node.next = self.head\n",
        "            self.head = new_node\n",
        "        self.length += 1\n",
        "        \n",
        "    def __len__(self):\n",
        "        \"\"\"Return the length of the linked list.\"\"\"\n",
        "        return self.length\n",
        "    \n",
        "    def __str__(self):\n",
        "        \"\"\"Return a string representation of the linked list.\"\"\"\n",
        "        return str([value for value in self])\n",
        "\n",
        "    def __eq__(self, other):\n",
        "        \"\"\"Check if two linked lists are equal.\n",
        "\n",
        "        Traverse both linked lists and compare the data of each node. \n",
        "        If the data of all nodes in both linked lists match, return True. \n",
        "        Otherwise, return False.\n",
        "\n",
        "        Args:\n",
        "            other (LinkedList): The linked list to compare with self.\n",
        "\n",
        "        Returns:\n",
        "            bool: True if the linked lists are equal, False otherwise.\n",
        "        \"\"\"\n",
        "        # Check if the lengths of the linked lists are the same\n",
        "        if len(self) != len(other):\n",
        "            print(self,other)\n",
        "            return False\n",
        "        \n",
        "        # Iterate over both linked lists and compare the data of each node\n",
        "        for node1, node2 in zip(self, other):\n",
        "            if node1 != node2:\n",
        "                print(node1.data,node2.data)\n",
        "                return False\n",
        "        \n",
        "        # If we made it this far, the linked lists are equal\n",
        "        return True"
      ],
      "metadata": {
        "id": "lMijMm4z1lSC",
        "colab": {
          "base_uri": "https://localhost:8080/"
        },
        "outputId": "45e2b239-9c6c-4b5b-9c9c-f47bb927e1cc"
      },
      "execution_count": 6,
      "outputs": [
        {
          "output_type": "stream",
          "name": "stdout",
          "text": [
            "Writing linkedlist.py\n"
          ]
        }
      ]
    },
    {
      "cell_type": "markdown",
      "source": [
        "### 1.1 Remove Duplicates From Linked List"
      ],
      "metadata": {
        "id": "n61LoCls1vCt"
      }
    },
    {
      "cell_type": "markdown",
      "source": [
        "You're given the head of a doubly Linked List whose nodes are in sorted order with respect to their values. Write a function that returns a modified version of the Linked List that doesn't contain any node with duplicat values. The Linked List should be modified in place (i.e, you shouldn't create a brand new list), and the modified Linked List should still have its nodes sorted with respect to their values.\n",
        "\n",
        "Each Linked List node is defined as described in Section 1.0."
      ],
      "metadata": {
        "id": "0Bpcngso1_9-"
      }
    },
    {
      "cell_type": "code",
      "source": [
        "# Sample Input\n",
        "# linkedList = 1 <-> 1 <-> 3 <-> 4 <-> 4 <-> 4 <-> 5 <-> 6 <-> 6 // the head value with value 1\n",
        "\n",
        "# Sample Output\n",
        "# 1 <-> 3 <-> 4 <-> 5 <-> 6"
      ],
      "metadata": {
        "id": "IZrXUFoO1x1A"
      },
      "execution_count": 7,
      "outputs": []
    },
    {
      "cell_type": "markdown",
      "source": [
        "Hint\n",
        "\n",
        "* The brute-force approach to this problem is to use a hash table or a set to keep track of all node values that exist while traversing the linked list and to simply remove nodes that have a valeu that already exists. This approach works, but can you solve this problem without using an auxiliary data structure?\n",
        "\n",
        "* What does the fact that the nodes are sorted tell you about the location of all duplicate nodes? How can you use this fact to solve this problem with constant space?\n",
        "\n",
        "* Since the linked list's nodes are sorted, you can loop through then and, at each iteration, simply remove all successive nodes that have the same value as the current node. For each node, change its next pointer to the next node in the linked list that has a different value. This will remove all duplicate-value nodes.\n",
        "Optimal Space & Time Complexity\n",
        "\n",
        "* O(n) time | O(1) space - where n is the number of nodes in the Linked List"
      ],
      "metadata": {
        "id": "oeVCeMvf4Yjh"
      }
    },
    {
      "cell_type": "code",
      "source": [
        "%%file test_remove_duplicaiton_from_linked_list_solution.py\n",
        "import pytest\n",
        "from linkedlist import *\n",
        "\n",
        "def removeDuplicatesFromLinkedList(linkedList):\n",
        "    \"\"\"\n",
        "    Modify the input doubly linked list in place to remove all nodes with duplicate values.\n",
        "    The modified linked list should still have its nodes sorted with respect to their values.\n",
        "  \n",
        "    Args:\n",
        "    linkedList (LinkedList): The sorted doubly linked list from which duplicate nodes will be removed.\n",
        "\n",
        "    Returns:\n",
        "        LinkedList: The modified linked list with duplicate nodes removed.\n",
        "    \"\"\"\n",
        "    # Check if empty list\n",
        "    if linkedList.head is None:\n",
        "        return linkedList\n",
        "\n",
        "    # Get first node\n",
        "    current = linkedList.head\n",
        "    \n",
        "    # While the next node isn't none\n",
        "    while current.next is not None:\n",
        "\n",
        "        # Check if the next node is equal\n",
        "        if current.data == current.next.data:\n",
        "\n",
        "            # Point to next node\n",
        "            current.next = current.next.next\n",
        "\n",
        "            # Decrease\n",
        "            linkedList.length -= 1\n",
        "        else:\n",
        "            current = current.next\n",
        "\n",
        "    return linkedList\n",
        "\n",
        "@pytest.fixture(scope=\"session\")\n",
        "def data():\n",
        "    \n",
        "    array = []\n",
        "    \n",
        "    # test 1 data\n",
        "    array.append([1,1,1,3,4,4,4,5,6,6])\n",
        "\n",
        "    # test 2 data\n",
        "    array.append([1,1,1,1,1,4,4,5,6,6])\n",
        "\n",
        "    # test 3 data\n",
        "    array.append([1,1,1,1,1,1,1])\n",
        "\n",
        "    # test 4 data\n",
        "    array.append([1,9,11,15,15,16,17])\n",
        "\n",
        "    # test 5 data\n",
        "    array.append([1])\n",
        "\n",
        "    # test 6 data\n",
        "    array.append([-5,-1,-1,-1,5,5,5,8,8,9,10,11,11])\n",
        "\n",
        "    # test 7 data\n",
        "    array.append([1,2,3,4,5,6,7,8,9,10,11,12,12])\n",
        "    \n",
        "    return array\n",
        "\n",
        "def test_1(data):\n",
        "    \"\"\"\n",
        "    Test evaluation for [1,1,1,3,4,4,4,5,6,6] \n",
        "    \"\"\"\n",
        "    linkedlist = LinkedList()\n",
        "    for item in data[0]:\n",
        "      linkedlist.append(item)\n",
        "\n",
        "    linkedlist_test = LinkedList()\n",
        "    for item in [1,3,4,5,6]:\n",
        "      linkedlist_test.append(item)\n",
        "\n",
        "    assert removeDuplicatesFromLinkedList(linkedlist) == linkedlist_test\n",
        "\n",
        "\n",
        "def test_2(data):\n",
        "    \"\"\"\n",
        "    Test evaluation for [1,1,1,1,1,4,4,5,6,6] \n",
        "    \"\"\"\n",
        "    linkedlist = LinkedList()\n",
        "    for item in data[1]:\n",
        "      linkedlist.append(item)\n",
        "\n",
        "    linkedlist_test = LinkedList()\n",
        "    for item in [1,4,5,6]:\n",
        "      linkedlist_test.append(item)\n",
        "\n",
        "    assert removeDuplicatesFromLinkedList(linkedlist) == linkedlist_test\n",
        "\n",
        "def test_3(data):\n",
        "    \"\"\"\n",
        "    Test evaluation for [1,1,1,1,1,1,1] \n",
        "    \"\"\"\n",
        "    linkedlist = LinkedList()\n",
        "    for item in data[2]:\n",
        "      linkedlist.append(item)\n",
        "\n",
        "    linkedlist_test = LinkedList()\n",
        "    for item in [1]:\n",
        "      linkedlist_test.append(item)\n",
        "\n",
        "    assert removeDuplicatesFromLinkedList(linkedlist) == linkedlist_test\n",
        "\n",
        "def test_4(data):\n",
        "    \"\"\"\n",
        "    Test evaluation for [1,9,11,15,15,16,17] \n",
        "    \"\"\"\n",
        "    linkedlist = LinkedList()\n",
        "    for item in data[3]:\n",
        "      linkedlist.append(item)\n",
        "\n",
        "    linkedlist_test = LinkedList()\n",
        "    for item in [1,9,11,15,16,17]:\n",
        "      linkedlist_test.append(item)\n",
        "\n",
        "    assert removeDuplicatesFromLinkedList(linkedlist) == linkedlist_test\n",
        "\n",
        "def test_5(data):\n",
        "    \"\"\"\n",
        "    Test evaluation for [1] \n",
        "    \"\"\"\n",
        "    linkedlist = LinkedList()\n",
        "    for item in data[4]:\n",
        "      linkedlist.append(item)\n",
        "\n",
        "    linkedlist_test = LinkedList()\n",
        "    for item in [1]:\n",
        "      linkedlist_test.append(item)\n",
        "\n",
        "    assert removeDuplicatesFromLinkedList(linkedlist) == linkedlist_test\n",
        "\n",
        "def test_6(data):\n",
        "    \"\"\"\n",
        "    Test evaluation for [-5,-1,-1,-1,5,5,5,8,8,9,10,11,11]\n",
        "    \"\"\"\n",
        "    linkedlist = LinkedList()\n",
        "    for item in data[5]:\n",
        "      linkedlist.append(item)\n",
        "\n",
        "    linkedlist_test = LinkedList()\n",
        "    for item in [-5,-1,5,8,9,10,11]:\n",
        "      linkedlist_test.append(item)\n",
        "\n",
        "    assert removeDuplicatesFromLinkedList(linkedlist) == linkedlist_test\n",
        "\n",
        "def test_7(data):\n",
        "    \"\"\"\n",
        "    Test evaluation for [1,2,3,4,5,6,7,8,9,10,11,12,12]\n",
        "    \"\"\"\n",
        "    linkedlist = LinkedList()\n",
        "    for item in data[6]:\n",
        "      linkedlist.append(item)\n",
        "\n",
        "    linkedlist_test = LinkedList()\n",
        "    for item in [1,2,3,4,5,6,7,8,9,10,11,12]:\n",
        "      linkedlist_test.append(item)\n",
        "\n",
        "    assert removeDuplicatesFromLinkedList(linkedlist) == linkedlist_test"
      ],
      "metadata": {
        "colab": {
          "base_uri": "https://localhost:8080/"
        },
        "id": "JLoZ7au-1WIm",
        "outputId": "08cedc1a-7885-4d20-b540-9d3d75dd71cb"
      },
      "execution_count": 8,
      "outputs": [
        {
          "output_type": "stream",
          "name": "stdout",
          "text": [
            "Writing test_remove_duplicaiton_from_linked_list_solution.py\n"
          ]
        }
      ]
    },
    {
      "cell_type": "code",
      "source": [
        "!pytest test_remove_duplicaiton_from_linked_list_solution.py -vv"
      ],
      "metadata": {
        "colab": {
          "base_uri": "https://localhost:8080/"
        },
        "id": "T9roFaPj8QBj",
        "outputId": "eef8d1ff-f219-4676-92ea-3dfa3a2c76e6"
      },
      "execution_count": 9,
      "outputs": [
        {
          "output_type": "stream",
          "name": "stdout",
          "text": [
            "\u001b[1m============================= test session starts ==============================\u001b[0m\n",
            "platform linux -- Python 3.9.16, pytest-7.2.2, pluggy-1.0.0 -- /usr/bin/python3\n",
            "cachedir: .pytest_cache\n",
            "rootdir: /content\n",
            "plugins: anyio-3.6.2\n",
            "\u001b[1mcollecting ... \u001b[0m\u001b[1m\rcollected 7 items                                                              \u001b[0m\n",
            "\n",
            "test_remove_duplicaiton_from_linked_list_solution.py::test_1 \u001b[32mPASSED\u001b[0m\u001b[32m      [ 14%]\u001b[0m\n",
            "test_remove_duplicaiton_from_linked_list_solution.py::test_2 \u001b[32mPASSED\u001b[0m\u001b[32m      [ 28%]\u001b[0m\n",
            "test_remove_duplicaiton_from_linked_list_solution.py::test_3 \u001b[32mPASSED\u001b[0m\u001b[32m      [ 42%]\u001b[0m\n",
            "test_remove_duplicaiton_from_linked_list_solution.py::test_4 \u001b[32mPASSED\u001b[0m\u001b[32m      [ 57%]\u001b[0m\n",
            "test_remove_duplicaiton_from_linked_list_solution.py::test_5 \u001b[32mPASSED\u001b[0m\u001b[32m      [ 71%]\u001b[0m\n",
            "test_remove_duplicaiton_from_linked_list_solution.py::test_6 \u001b[32mPASSED\u001b[0m\u001b[32m      [ 85%]\u001b[0m\n",
            "test_remove_duplicaiton_from_linked_list_solution.py::test_7 \u001b[32mPASSED\u001b[0m\u001b[32m      [100%]\u001b[0m\n",
            "\n",
            "\u001b[32m============================== \u001b[32m\u001b[1m7 passed\u001b[0m\u001b[32m in 0.02s\u001b[0m\u001b[32m ===============================\u001b[0m\n"
          ]
        }
      ]
    },
    {
      "cell_type": "markdown",
      "source": [
        "### 1.2 Merge Doubly Linked List"
      ],
      "metadata": {
        "id": "8fP4jGnrS9Im"
      }
    },
    {
      "cell_type": "markdown",
      "source": [
        "Write a function that takes two doubly linked lists that are in sorted order, respectively. The function should merge the lists in place (i.e., it shouldn't create a brand new list) and return the head of the merged list; the merged list should be in sorted order.\n",
        "\n",
        "Each LinkedList node is defined as described in Section 3.0.\n",
        "\n",
        "You can assume that the input doubly linked lists will always have at least one node; in other words, the heads will never be None/Null."
      ],
      "metadata": {
        "id": "87By74aZS_o9"
      }
    },
    {
      "cell_type": "code",
      "source": [
        "# Sample Input\n",
        "# linkedListOne = 2 <-> 6 <-> 7 <-> 8 //the head node with value 2\n",
        "# linkedListTwo = 1 <-> 3 <-> 4 <-> 5 <-> 9 <-> 10 //the head node with value 1\n",
        "\n",
        "# Sample Output\n",
        "# 1 <-> 2 <-> 3 <-> 4 <-> 5 <-> 6 <-> 7 <-> 8 <-> 9 <-> 10"
      ],
      "metadata": {
        "id": "NXtOt-7-THJJ"
      },
      "execution_count": 10,
      "outputs": []
    },
    {
      "cell_type": "markdown",
      "source": [
        "**Hint**\n",
        "\n",
        "* You can iterate through the Linked Lists from head to tail and merge them along the way by inserting nodes from the second Linked List into the first Linked List.\n",
        "\n",
        "* You'll need to manipulate three nodes at once at every step.\n",
        "\n",
        "* At every step, you'll need to have three variables (p1, p2, and p1Prev) pointing to the current node in the first Linked List (p1), the current node in the second Linked List (p2), and the previous node in the first Linked List (piPrev). If the value of p1 is smaller than the value of p2, then can just \"move forward\"in the first Linked List by moving p1 and p1Prev forwared by one position (p1Prev becomes p1 and p1 becomes p1.nex). If the value of p1 is greater than the value of p2, then you need to insert p2 before p1. You'll have to first make p1Prev point to p2, then make p2 point to p1, all the while not losing track of p2's \"next\"node, which you'll need to move to right after. You'll also have to handle edge cases when you're dealing with head and nodes or tail nodes.\n",
        "\n",
        "* You can implement this algorithm both iteratively and recursively following nearly identifical logic.\n",
        "\n",
        "**Optimal Space & Time Complexity**\n",
        "\n",
        "O(n+m) time | O(1) space - where n is the number of nodes in the first Linked List and m is the number of nodes in the second Linked List."
      ],
      "metadata": {
        "id": "5g6bxejITF7F"
      }
    },
    {
      "cell_type": "code",
      "source": [
        "%%file test_mergeLinkedLists.py\n",
        "import pytest\n",
        "from linkedlist import *\n",
        "\n",
        "def mergeLinkedLists(linkedList_one, linkedList_two):\n",
        "    \"\"\"Merge two doubly linked lists that are in sorted order.\n",
        "\n",
        "    Merge two doubly linked lists that are in sorted order. The merged list will also be in sorted order. The merge is done in place, so the returned linked list is `linkedList_one` with its head updated.\n",
        "\n",
        "    Args:\n",
        "        linkedList_one (LinkedList): The first linked list to merge.\n",
        "        linkedList_two (LinkedList): The second linked list to merge.\n",
        "\n",
        "    Returns:\n",
        "        LinkedList: The merged linked list, with its head updated to reflect the new head of the merged list.\n",
        "    \"\"\"\n",
        "\n",
        "    p1 = linkedList_one.head\n",
        "    p2 = linkedList_two.head\n",
        "    p1Prev = None\n",
        "    \n",
        "    # Percorrer as duas listas encadeadas\n",
        "    while p1 is not None and p2 is not None:\n",
        "        if p1.data < p2.data:\n",
        "            # Se o valor de p1 for menor que o valor de p2, avançar em linkedList_one\n",
        "            p1Prev = p1\n",
        "            p1 = p1.next\n",
        "        else:\n",
        "            # Se o valor de p1 for maior que o valor de p2, inserir p2 antes de p1\n",
        "            if p1Prev is not None:\n",
        "                # Se p1 não for o primeiro nó em linkedList_one\n",
        "                p1Prev.next = p2\n",
        "            else:\n",
        "                # Se p1 for o primeiro nó em linkedList_one\n",
        "                linkedList_one.head = p2\n",
        "            p2.prev = p1Prev\n",
        "            p1Prev = p2\n",
        "            p2 = p2.next\n",
        "            p1Prev.next = p1\n",
        "    \n",
        "    # Se ainda houver nós em linkedList_two, adicionar ao final de linkedList_one\n",
        "    if p2 is not None:\n",
        "        linkedList_one.tail.next = p2\n",
        "        p2.prev = linkedList_one.tail\n",
        "        linkedList_one.tail = linkedList_two.tail\n",
        "        \n",
        "    # Length update\n",
        "    linkedList_one.length += linkedList_two.length\n",
        "    \n",
        "    return linkedList_one\n",
        "\n",
        "@pytest.fixture(scope=\"session\")\n",
        "def data():\n",
        "    \n",
        "    array = []\n",
        "    \n",
        "    # test 1 data\n",
        "    array.append([[2,6,7,8],[1,3,4,5,9,10]])\n",
        "\n",
        "    # test 2 data\n",
        "    array.append([[1,2,3,4,5],[6,7,8,9,10]])\n",
        "\n",
        "    # test 3 data\n",
        "    array.append([[6,7,8,9,10],[1,2,3,4,5]])\n",
        "\n",
        "    # test 4 data\n",
        "    array.append([[1,3,5,7,9],[2,4,6,8,10]])\n",
        "\n",
        "    # test 5 data\n",
        "    array.append([[0,1,2,3,4,5,7,8,9,10],[6]])\n",
        "\n",
        "    # test 6 data\n",
        "    array.append([[6],[0,1,2,3,4,5,7,8,9,10]])\n",
        "\n",
        "    # test 7 data\n",
        "    array.append([[1],[2]])\n",
        "\n",
        "    # test 8 data\n",
        "    array.append([[2],[1]])\n",
        "\n",
        "    # test 9 data\n",
        "    array.append([[1,1,1,3,4,5,5,5,10],[1,1,2,2,5,6,10,10]])\n",
        "    \n",
        "    return array\n",
        "\n",
        "def test_1(data):\n",
        "    \"\"\"\n",
        "    Test evaluation for [[2,6,7,8],[1,3,4,5,9,10]]\n",
        "    \"\"\"\n",
        "    linkedlist_one = LinkedList()\n",
        "    for item in data[0][0]:\n",
        "      linkedlist_one.append(item)\n",
        "\n",
        "    linkedlist_two = LinkedList()\n",
        "    for item in data[0][1]:\n",
        "      linkedlist_two.append(item)\n",
        "\n",
        "    linkedlist_test = LinkedList()\n",
        "    for item in [1,2,3,4,5,6,7,8,9,10]:\n",
        "      linkedlist_test.append(item)\n",
        "\n",
        "    assert mergeLinkedLists(linkedlist_one, linkedlist_two) == linkedlist_test\n",
        "\n",
        "\n",
        "def test_2(data):\n",
        "    \"\"\"\n",
        "    Test evaluation for [[1,2,3,4,5],[6,7,8,9,10]]\n",
        "    \"\"\"\n",
        "    linkedlist_one = LinkedList()\n",
        "    for item in data[1][0]:\n",
        "      linkedlist_one.append(item)\n",
        "\n",
        "    linkedlist_two = LinkedList()\n",
        "    for item in data[1][1]:\n",
        "      linkedlist_two.append(item)\n",
        "\n",
        "    linkedlist_test = LinkedList()\n",
        "    for item in [1,2,3,4,5,6,7,8,9,10]:\n",
        "      linkedlist_test.append(item)\n",
        "\n",
        "    assert mergeLinkedLists(linkedlist_one, linkedlist_two) == linkedlist_test\n",
        "\n",
        "def test_3(data):\n",
        "    \"\"\"\n",
        "    Test evaluation for [[6,7,8,9,10],[1,2,3,4,5]]\n",
        "    \"\"\"\n",
        "    linkedlist_one = LinkedList()\n",
        "    for item in data[2][0]:\n",
        "      linkedlist_one.append(item)\n",
        "\n",
        "    linkedlist_two = LinkedList()\n",
        "    for item in data[2][1]:\n",
        "      linkedlist_two.append(item)\n",
        "\n",
        "    linkedlist_test = LinkedList()\n",
        "    for item in [1,2,3,4,5,6,7,8,9,10]:\n",
        "      linkedlist_test.append(item)\n",
        "\n",
        "    assert mergeLinkedLists(linkedlist_one, linkedlist_two) == linkedlist_test\n",
        "\n",
        "def test_4(data):\n",
        "    \"\"\"\n",
        "    Test evaluation for [[1,3,5,7,9],[2,4,6,8,10]]\n",
        "    \"\"\"\n",
        "    linkedlist_one = LinkedList()\n",
        "    for item in data[3][0]:\n",
        "      linkedlist_one.append(item)\n",
        "\n",
        "    linkedlist_two = LinkedList()\n",
        "    for item in data[3][1]:\n",
        "      linkedlist_two.append(item)\n",
        "\n",
        "    linkedlist_test = LinkedList()\n",
        "    for item in [1,2,3,4,5,6,7,8,9,10]:\n",
        "      linkedlist_test.append(item)\n",
        "\n",
        "    assert mergeLinkedLists(linkedlist_one, linkedlist_two) == linkedlist_test\n",
        "\n",
        "def test_5(data):\n",
        "    \"\"\"\n",
        "    Test evaluation for [[0,1,2,3,4,5,7,8,9,10],[6]]\n",
        "    \"\"\"\n",
        "    linkedlist_one = LinkedList()\n",
        "    for item in data[4][0]:\n",
        "      linkedlist_one.append(item)\n",
        "\n",
        "    linkedlist_two = LinkedList()\n",
        "    for item in data[4][1]:\n",
        "      linkedlist_two.append(item)\n",
        "\n",
        "    linkedlist_test = LinkedList()\n",
        "    for item in [0,1,2,3,4,5,6,7,8,9,10]:\n",
        "      linkedlist_test.append(item)\n",
        "\n",
        "    assert mergeLinkedLists(linkedlist_one, linkedlist_two) == linkedlist_test\n",
        "\n",
        "def test_6(data):\n",
        "    \"\"\"\n",
        "    Test evaluation for [[6],[0,1,2,3,4,5,7,8,9,10]]\n",
        "    \"\"\"\n",
        "    linkedlist_one = LinkedList()\n",
        "    for item in data[5][0]:\n",
        "      linkedlist_one.append(item)\n",
        "\n",
        "    linkedlist_two = LinkedList()\n",
        "    for item in data[5][1]:\n",
        "      linkedlist_two.append(item)\n",
        "\n",
        "    linkedlist_test = LinkedList()\n",
        "    for item in [0,1,2,3,4,5,6,7,8,9,10]:\n",
        "      linkedlist_test.append(item)\n",
        "\n",
        "    assert mergeLinkedLists(linkedlist_one, linkedlist_two) == linkedlist_test\n",
        "\n",
        "def test_7(data):\n",
        "    \"\"\"\n",
        "    Test evaluation for [[1],[2]]\n",
        "    \"\"\"\n",
        "    linkedlist_one = LinkedList()\n",
        "    for item in data[6][0]:\n",
        "      linkedlist_one.append(item)\n",
        "\n",
        "    linkedlist_two = LinkedList()\n",
        "    for item in data[6][1]:\n",
        "      linkedlist_two.append(item)\n",
        "\n",
        "    linkedlist_test = LinkedList()\n",
        "    for item in [1,2]:\n",
        "      linkedlist_test.append(item)\n",
        "\n",
        "    assert mergeLinkedLists(linkedlist_one, linkedlist_two) == linkedlist_test\n",
        "\n",
        "def test_8(data):\n",
        "    \"\"\"\n",
        "    Test evaluation for [[2],[1]]\n",
        "    \"\"\"\n",
        "    linkedlist_one = LinkedList()\n",
        "    for item in data[7][0]:\n",
        "      linkedlist_one.append(item)\n",
        "\n",
        "    linkedlist_two = LinkedList()\n",
        "    for item in data[7][1]:\n",
        "      linkedlist_two.append(item)\n",
        "\n",
        "    linkedlist_test = LinkedList()\n",
        "    for item in [1,2]:\n",
        "      linkedlist_test.append(item)\n",
        "\n",
        "    assert mergeLinkedLists(linkedlist_one, linkedlist_two) == linkedlist_test\n",
        "\n",
        "def test_9(data):\n",
        "    \"\"\"\n",
        "    Test evaluation for [[1,1,1,3,4,5,5,5,10],[1,1,2,2,5,6,10,10]]\n",
        "    \"\"\"\n",
        "    linkedlist_one = LinkedList()\n",
        "    for item in data[8][0]:\n",
        "      linkedlist_one.append(item)\n",
        "\n",
        "    linkedlist_two = LinkedList()\n",
        "    for item in data[8][1]:\n",
        "      linkedlist_two.append(item)\n",
        "\n",
        "    linkedlist_test = LinkedList()\n",
        "    for item in [1,1,1,1,1,2,2,3,4,5,5,5,5,6,10,10,10]:\n",
        "      linkedlist_test.append(item)\n",
        "\n",
        "    assert mergeLinkedLists(linkedlist_one, linkedlist_two) == linkedlist_test     "
      ],
      "metadata": {
        "colab": {
          "base_uri": "https://localhost:8080/"
        },
        "id": "IHKKJKmLWW99",
        "outputId": "90c611d3-17e7-437b-d904-0150dae000ea"
      },
      "execution_count": 11,
      "outputs": [
        {
          "output_type": "stream",
          "name": "stdout",
          "text": [
            "Writing test_mergeLinkedLists.py\n"
          ]
        }
      ]
    },
    {
      "cell_type": "code",
      "source": [
        "!pytest test_mergeLinkedLists.py -vv"
      ],
      "metadata": {
        "colab": {
          "base_uri": "https://localhost:8080/"
        },
        "id": "jKMIRUnpVLJv",
        "outputId": "4a86e636-066f-4d4e-d853-4e822948ff79"
      },
      "execution_count": 12,
      "outputs": [
        {
          "output_type": "stream",
          "name": "stdout",
          "text": [
            "\u001b[1m============================= test session starts ==============================\u001b[0m\n",
            "platform linux -- Python 3.9.16, pytest-7.2.2, pluggy-1.0.0 -- /usr/bin/python3\n",
            "cachedir: .pytest_cache\n",
            "rootdir: /content\n",
            "plugins: anyio-3.6.2\n",
            "\u001b[1mcollecting ... \u001b[0m\u001b[1m\rcollected 9 items                                                              \u001b[0m\n",
            "\n",
            "test_mergeLinkedLists.py::test_1 \u001b[32mPASSED\u001b[0m\u001b[32m                                  [ 11%]\u001b[0m\n",
            "test_mergeLinkedLists.py::test_2 \u001b[32mPASSED\u001b[0m\u001b[32m                                  [ 22%]\u001b[0m\n",
            "test_mergeLinkedLists.py::test_3 \u001b[32mPASSED\u001b[0m\u001b[32m                                  [ 33%]\u001b[0m\n",
            "test_mergeLinkedLists.py::test_4 \u001b[32mPASSED\u001b[0m\u001b[32m                                  [ 44%]\u001b[0m\n",
            "test_mergeLinkedLists.py::test_5 \u001b[32mPASSED\u001b[0m\u001b[32m                                  [ 55%]\u001b[0m\n",
            "test_mergeLinkedLists.py::test_6 \u001b[32mPASSED\u001b[0m\u001b[32m                                  [ 66%]\u001b[0m\n",
            "test_mergeLinkedLists.py::test_7 \u001b[32mPASSED\u001b[0m\u001b[32m                                  [ 77%]\u001b[0m\n",
            "test_mergeLinkedLists.py::test_8 \u001b[32mPASSED\u001b[0m\u001b[32m                                  [ 88%]\u001b[0m\n",
            "test_mergeLinkedLists.py::test_9 \u001b[32mPASSED\u001b[0m\u001b[32m                                  [100%]\u001b[0m\n",
            "\n",
            "\u001b[32m============================== \u001b[32m\u001b[1m9 passed\u001b[0m\u001b[32m in 0.03s\u001b[0m\u001b[32m ===============================\u001b[0m\n"
          ]
        }
      ]
    },
    {
      "cell_type": "markdown",
      "source": [
        "## 2. Stack"
      ],
      "metadata": {
        "id": "USpedl5W14xs"
      }
    },
    {
      "cell_type": "code",
      "source": [
        "# To produce the file stack.py, please remove the comment symbol '#' from the beginning of the line below.\n",
        "# Note you need to generate the file linkedlist.py in the Section 3.\n",
        "\n",
        "%%file stack.py\n",
        "from linkedlist import *\n",
        "\n",
        "class Stack(LinkedList):\n",
        "    \"\"\"\n",
        "    This class represents a stack data structure that inherits from a linked list.\n",
        "    \n",
        "    Methods:\n",
        "    push(data) -- adds a new node to the top of the stack with the given data.\n",
        "    peek() -- returns the data at the top of the stack without removing it.\n",
        "    pop() -- removes and returns the node at the top of the stack.\n",
        "    \"\"\"\n",
        "    \n",
        "    def push(self, data):\n",
        "        \"\"\"\n",
        "        Adds a new node to the top of the stack with the given data.\n",
        "        \n",
        "        Arguments:\n",
        "        data -- the data to be stored in the new node.\n",
        "        \"\"\"\n",
        "        self.append(data)\n",
        "\n",
        "    def peek(self):\n",
        "        \"\"\"\n",
        "        Returns the data at the top of the stack without removing it.\n",
        "        \"\"\"\n",
        "        return self.tail.data\n",
        "\n",
        "    def pop(self):\n",
        "        \"\"\"\n",
        "        Removes and returns the node at the top of the stack.\n",
        "        \n",
        "        Returns:\n",
        "        The data stored in the node at the top of the stack.\n",
        "        \"\"\"\n",
        "        ret = self.tail.data\n",
        "        if self.length == 1:\n",
        "            self.tail = self.head = None\n",
        "        else:\n",
        "            self.tail = self.tail.prev\n",
        "            self.tail.next = None\n",
        "        self.length -= 1\n",
        "        return ret"
      ],
      "metadata": {
        "colab": {
          "base_uri": "https://localhost:8080/"
        },
        "id": "84EUG1ei1_J_",
        "outputId": "2121783a-7ec8-4851-e476-bfaf4f8123c3"
      },
      "execution_count": 13,
      "outputs": [
        {
          "output_type": "stream",
          "name": "stdout",
          "text": [
            "Writing stack.py\n"
          ]
        }
      ]
    },
    {
      "cell_type": "markdown",
      "source": [
        "### 2.1 Sunset Views"
      ],
      "metadata": {
        "id": "GVRpuJ003G6C"
      }
    },
    {
      "cell_type": "markdown",
      "source": [
        "Given an array of buildings and a direction that all of the buildings face, return an array of the indices of the buildings that can see the sunset.\n",
        "\n",
        "A building can see the sunset if its strictly taller than all of the buildings that come after it in the direction that it faces.\n",
        "\n",
        "The input array named buildings contains positive, non-zero integers representing the heights of the buildings. A building at index i thus has a height denoted by buildings[1]. All of the buildings face the same direction, and this direction is either east or west, denoted by the input string named direction, which will always be equal to either EAST or WEST. In relation to the input array, you can interpret these directions as right for east and left for west.\n",
        "\n",
        "Important note: the indices in the ouput array should be sorted in ascending order."
      ],
      "metadata": {
        "id": "iUx-opnx3NJx"
      }
    },
    {
      "cell_type": "code",
      "source": [
        "# Sample Input\n",
        "buildings = [3,5,4,4,3,1,3,2]\n",
        "direction = \"EAST\"     "
      ],
      "metadata": {
        "id": "L4IedIZc3WuU"
      },
      "execution_count": 14,
      "outputs": []
    },
    {
      "cell_type": "code",
      "source": [
        "# Sample Output\n",
        "# Below is the visual representation of the sample input\n",
        "\"\"\"_\n",
        "  | |_ _\n",
        " _| | | |_   _\n",
        "| | | | | | | |_\n",
        "| | | | | |_| | |\n",
        "|_|_|_|_|_|_|_|_|\n",
        "\"\"\"\n",
        "output = [1,3,6,7]"
      ],
      "metadata": {
        "id": "O4FeCrUg3cF-"
      },
      "execution_count": 15,
      "outputs": []
    },
    {
      "cell_type": "code",
      "source": [
        "# Sample Input\n",
        "buildings = [3,5,4,4,3,1,3,2]\n",
        "direction = \"WEST\"\n",
        "\n",
        "# Sample Output\n",
        "ouput = [0,1]"
      ],
      "metadata": {
        "id": "iRuyuT4K3gXi"
      },
      "execution_count": null,
      "outputs": []
    },
    {
      "cell_type": "markdown",
      "source": [
        "**Hint**\n",
        "\n",
        "* Is there a way to silve this problem in one loop?\n",
        "\n",
        "* How does your solution change based on the direction that the buildings are facing? You can use the same approach for each direction by simply changing the direction in wihich you traverse the array of building.\n",
        "\n",
        "* There are multiple ways to solve this problem, but one is to maintain a running maximum of building heights. Loop in the opposite direction that the buildings are facing, and keep track of the maximum building height that you've seen. At each iteration, compare the height of the current building to the running maximum; if the current building is taller, then it can see the sunset; otherwise, it can't. Finally, at each iteration, update the running maximum.\n",
        "\n",
        "* Another way to solve this problem is to use a stack. Loop in the direction that the buildings are facing, and add the index of the current building to the stack at the end of each iteration. Before adding elements to the slack, compare the current building height to buildings at the top of the stack. Pop off the top of the stack until the current building height is shorter than the height of the building at the top of the stack. This will remove all buildings the are blocked from seeing the sunset by the current building. At the end of the algorithm, the stack will only contain elements that can see the sunset.\n",
        "\n",
        "**Optimal Space & Time Complexity**\n",
        "\n",
        "O(n) time | O(n) space - where n is the lenght of the input array."
      ],
      "metadata": {
        "id": "aTc3lz9a4ecU"
      }
    },
    {
      "cell_type": "code",
      "source": [
        "%%file test_stack.py\n",
        "import pytest\n",
        "from stack import *\n",
        "\n",
        "def sunsetViews(buildings, direction):\n",
        "    \"\"\"\n",
        "    Given an array of buildings and a direction that all of the buildings face,\n",
        "    return an array of the indices of the buildings that can see the sunset.\n",
        "    \n",
        "    A building can see the sunset if it's strictly taller than all of the buildings\n",
        "    that come after it in the direction that it faces.\n",
        "\n",
        "    Args:\n",
        "    buildings (list): A list of positive, non-zero integers representing the heights of the buildings.\n",
        "    direction (str): A string denoting the direction the buildings face, either 'EAST' or 'WEST'.\n",
        "    \n",
        "    Returns:\n",
        "    list: A sorted list of indices of the buildings that can see the sunset.\n",
        "    \"\"\"    \n",
        "    n = len(buildings)\n",
        "    result = Stack()\n",
        "    \n",
        "    # loop through buildings in the direction of the facing direction\n",
        "    if direction == 'EAST':\n",
        "        start, end, step = 0, n, 1\n",
        "    else:\n",
        "        start, end, step = n - 1, -1, -1\n",
        "\n",
        "    for i in range(start, end, step):\n",
        "        while result.length > 0 and buildings[i] >= buildings[result.peek()]:\n",
        "            result.pop()\n",
        "        result.push(i)\n",
        "\n",
        "    return sorted(list(result))\n",
        "\n",
        "\n",
        "@pytest.fixture(scope=\"session\")\n",
        "def data():\n",
        "    \n",
        "    array = []\n",
        "    \n",
        "    # test 1 data\n",
        "    array.append([3, 5, 4, 4, 3, 1, 3, 2])\n",
        "\n",
        "    # test 2 data\n",
        "    array.append([3, 5, 4, 4, 3, 1, 3, 2])\n",
        "\n",
        "    # test 3 data\n",
        "    array.append([10, 11])\n",
        "\n",
        "    # test 4 data\n",
        "    array.append([2,4])\n",
        "\n",
        "    # test 5 data\n",
        "    array.append([1])\n",
        "\n",
        "    # test 6 data\n",
        "    array.append([1])\n",
        "\n",
        "    # test 7 data\n",
        "    array.append([])\n",
        "\n",
        "    # test 8 data\n",
        "    array.append([])\n",
        "\n",
        "    # test 9 data\n",
        "    array.append([7, 1, 7, 8, 9, 8, 7, 6, 5, 4, 2, 5])\n",
        "\n",
        "    # test 10 data\n",
        "    array.append([1, 2, 3, 4, 5, 6])\n",
        "\n",
        "    # test 11 data\n",
        "    array.append([1, 2, 3, 4, 5, 6])\n",
        "\n",
        "    # test 12 data\n",
        "    array.append([1, 2, 3, 1, 5, 6, 9, 1, 9, 9, 11, 10, 9, 12, 8])\n",
        "\n",
        "    # test 13 data\n",
        "    array.append([20, 2, 3, 1, 5, 6, 9, 1, 9, 9, 11, 10, 9, 12, 8])\n",
        "    \n",
        "    return array\n",
        "\n",
        "def test_1(data):\n",
        "    \"\"\"\n",
        "    Test evaluation for [3, 5, 4, 4, 3, 1, 3, 2],EAST\n",
        "    \"\"\"\n",
        "    buildings = data[0]\n",
        "    direction = \"EAST\"\n",
        "    assert sunsetViews(buildings, direction) == [1, 3, 6, 7]\n",
        "\n",
        "\n",
        "def test_2(data):\n",
        "    \"\"\"\n",
        "    Test evaluation for [3, 5, 4, 4, 3, 1, 3, 2],WEST\n",
        "    \"\"\"\n",
        "    buildings = data[1]\n",
        "    direction = \"WEST\"\n",
        "    assert sunsetViews(buildings, direction) == [0,1]\n",
        "\n",
        "def test_3(data):\n",
        "    \"\"\"\n",
        "    Test evaluation for [10, 11],EAST\n",
        "    \"\"\"\n",
        "    buildings = data[2]\n",
        "    direction = \"EAST\"\n",
        "    assert sunsetViews(buildings, direction) == [1]\n",
        "\n",
        "def test_4(data):\n",
        "    \"\"\"\n",
        "    Test evaluation for [2,4],WEST\n",
        "    \"\"\"\n",
        "    buildings = data[3]\n",
        "    direction = \"WEST\"\n",
        "    assert sunsetViews(buildings, direction) == [0,1]\n",
        "\n",
        "def test_5(data):\n",
        "    \"\"\"\n",
        "    Test evaluation for [1],EAST\n",
        "    \"\"\"\n",
        "    buildings = data[4]\n",
        "    direction = \"EAST\"\n",
        "    assert sunsetViews(buildings, direction) == [0]\n",
        "\n",
        "def test_6(data):\n",
        "    \"\"\"\n",
        "    Test evaluation for [1],WEST\n",
        "    \"\"\"\n",
        "    buildings = data[5]\n",
        "    direction = \"WEST\"\n",
        "    assert sunsetViews(buildings, direction) == [0]\n",
        "\n",
        "def test_7(data):\n",
        "    \"\"\"\n",
        "    Test evaluation for [],EAST\n",
        "    \"\"\"\n",
        "    buildings = data[6]\n",
        "    direction = \"EAST\"\n",
        "    assert sunsetViews(buildings, direction) == []\n",
        "\n",
        "def test_8(data):\n",
        "    \"\"\"\n",
        "    Test evaluation for [],WEST\n",
        "    \"\"\"\n",
        "    buildings = data[7]\n",
        "    direction = \"WEST\"\n",
        "    assert sunsetViews(buildings, direction) == []\n",
        "\n",
        "def test_9(data):\n",
        "    \"\"\"\n",
        "    Test evaluation for [7, 1, 7, 8, 9, 8, 7, 6, 5, 4, 2, 5],EAST\n",
        "    \"\"\"\n",
        "    buildings = data[8]\n",
        "    direction = \"EAST\"\n",
        "    assert sunsetViews(buildings, direction) == [4, 5, 6, 7, 11]\n",
        "\n",
        "def test_10(data):\n",
        "    \"\"\"\n",
        "    Test evaluation for [1, 2, 3, 4, 5, 6],EAST\n",
        "    \"\"\"\n",
        "    buildings = data[9]\n",
        "    direction = \"EAST\"\n",
        "    assert sunsetViews(buildings, direction) == [5]\n",
        "\n",
        "def test_11(data):\n",
        "    \"\"\"\n",
        "    Test evaluation for [1, 2, 3, 4, 5, 6],WEST\n",
        "    \"\"\"\n",
        "    buildings = data[10]\n",
        "    direction = \"WEST\"\n",
        "    assert sunsetViews(buildings, direction) == [0, 1, 2, 3, 4, 5]\n",
        "\n",
        "def test_12(data):\n",
        "    \"\"\"\n",
        "    Test evaluation for [1, 2, 3, 1, 5, 6, 9, 1, 9, 9, 11, 10, 9, 12, 8],WEST\n",
        "    \"\"\"\n",
        "    buildings = data[11]\n",
        "    direction = \"WEST\"\n",
        "    assert sunsetViews(buildings, direction) == [0, 1, 2, 4, 5, 6, 10, 13]\n",
        "\n",
        "def test_13(data):\n",
        "    \"\"\"\n",
        "    Test evaluation for [20, 2, 3, 1, 5, 6, 9, 1, 9, 9, 11, 10, 9, 12, 8],EAST\n",
        "    \"\"\"\n",
        "    buildings = data[12]\n",
        "    direction = \"EAST\"\n",
        "    assert sunsetViews(buildings, direction) == [0, 13, 14]"
      ],
      "metadata": {
        "colab": {
          "base_uri": "https://localhost:8080/"
        },
        "id": "HNw-IgoL2-J8",
        "outputId": "e082f7f4-4aba-4475-ecd3-5f0eb9241a5c"
      },
      "execution_count": 18,
      "outputs": [
        {
          "output_type": "stream",
          "name": "stdout",
          "text": [
            "Overwriting test_stack.py\n"
          ]
        }
      ]
    },
    {
      "cell_type": "code",
      "source": [
        "!pytest test_stack.py -vv"
      ],
      "metadata": {
        "colab": {
          "base_uri": "https://localhost:8080/"
        },
        "id": "GOGWKI-73nDj",
        "outputId": "5f4c335a-5ec4-4c2c-d9d2-7780a6ef2aaa"
      },
      "execution_count": 19,
      "outputs": [
        {
          "output_type": "stream",
          "name": "stdout",
          "text": [
            "\u001b[1m============================= test session starts ==============================\u001b[0m\n",
            "platform linux -- Python 3.9.16, pytest-7.2.2, pluggy-1.0.0 -- /usr/bin/python3\n",
            "cachedir: .pytest_cache\n",
            "rootdir: /content\n",
            "plugins: anyio-3.6.2\n",
            "\u001b[1mcollecting ... \u001b[0m\u001b[1m\rcollected 13 items                                                             \u001b[0m\n",
            "\n",
            "test_stack.py::test_1 \u001b[32mPASSED\u001b[0m\u001b[32m                                             [  7%]\u001b[0m\n",
            "test_stack.py::test_2 \u001b[32mPASSED\u001b[0m\u001b[32m                                             [ 15%]\u001b[0m\n",
            "test_stack.py::test_3 \u001b[32mPASSED\u001b[0m\u001b[32m                                             [ 23%]\u001b[0m\n",
            "test_stack.py::test_4 \u001b[32mPASSED\u001b[0m\u001b[32m                                             [ 30%]\u001b[0m\n",
            "test_stack.py::test_5 \u001b[32mPASSED\u001b[0m\u001b[32m                                             [ 38%]\u001b[0m\n",
            "test_stack.py::test_6 \u001b[32mPASSED\u001b[0m\u001b[32m                                             [ 46%]\u001b[0m\n",
            "test_stack.py::test_7 \u001b[32mPASSED\u001b[0m\u001b[32m                                             [ 53%]\u001b[0m\n",
            "test_stack.py::test_8 \u001b[32mPASSED\u001b[0m\u001b[32m                                             [ 61%]\u001b[0m\n",
            "test_stack.py::test_9 \u001b[32mPASSED\u001b[0m\u001b[32m                                             [ 69%]\u001b[0m\n",
            "test_stack.py::test_10 \u001b[32mPASSED\u001b[0m\u001b[32m                                            [ 76%]\u001b[0m\n",
            "test_stack.py::test_11 \u001b[32mPASSED\u001b[0m\u001b[32m                                            [ 84%]\u001b[0m\n",
            "test_stack.py::test_12 \u001b[32mPASSED\u001b[0m\u001b[32m                                            [ 92%]\u001b[0m\n",
            "test_stack.py::test_13 \u001b[32mPASSED\u001b[0m\u001b[32m                                            [100%]\u001b[0m\n",
            "\n",
            "\u001b[32m============================== \u001b[32m\u001b[1m13 passed\u001b[0m\u001b[32m in 0.04s\u001b[0m\u001b[32m ==============================\u001b[0m\n"
          ]
        }
      ]
    },
    {
      "cell_type": "markdown",
      "source": [
        "<h2> Acknowledgement </h2>\n",
        "\n",
        "&#128526; [Emojis in Hex](https://dev.to/rodrigoodhin/list-of-emojis-hex-codes-35ma)\n"
      ],
      "metadata": {
        "id": "-n4ZPgp7r16B"
      }
    }
  ]
}