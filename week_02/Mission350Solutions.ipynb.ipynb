{
  "nbformat": 4,
  "nbformat_minor": 0,
  "metadata": {
    "colab": {
      "provenance": []
    },
    "kernelspec": {
      "name": "python3",
      "display_name": "Python 3"
    },
    "language_info": {
      "name": "python"
    }
  },
  "cells": [
    {
      "cell_type": "markdown",
      "source": [
        "<h2> Profitable App Profiles for the App Store and Google Play Markets </h2>\n",
        "\n",
        "\n",
        "Our aim in this project is to find mobile app profiles that are profitable for the App Store and Google Play markets. We're working as data analysts for a company that builds Android and iOS mobile apps, and our job is to enable our team of developers to make data-driven decisions with respect to the kind of apps they build.\n",
        "\n",
        "At our company, we only build apps that are free to download and install, and our main source of revenue consists of in-app ads. This means that our revenue for any given app is mostly influenced by the number of users that use our app. Our goal for this project is to analyze data to help our developers understand what kinds of apps are likely to attract more users.\n",
        "\n",
        "<h3> Opening and Exploring the Data </h3>\n",
        "As of September 2018, there were approximately 2 million iOS apps available on the App Store, and 2.1 million Android apps on Google Play.\n",
        "\n",
        "![img](https://s3.amazonaws.com/dq-content/350/py1m8_statista.png) Source: [Statista](https://www.statista.com/statistics/276623/number-of-apps-available-in-leading-app-stores/)\n",
        "Collecting data for over four million apps requires a significant amount of time and money, so we'll try to analyze a sample of data instead. To avoid spending resources with collecting new data ourselves, we should first try to see whether we can find any relevant existing data at no cost. Luckily, these are two data sets that seem suitable for our purpose:\n",
        "\n",
        "A [data set](https://www.kaggle.com/lava18/google-play-store-apps) containing data about approximately ten thousand Android apps from Google Play. You can download the data set directly from this [link](https://dq-content.s3.amazonaws.com/350/googleplaystore.csv).\n",
        "\n",
        "A [data set](https://www.kaggle.com/ramamet4/app-store-apple-data-set-10k-apps) containing data about approximately seven thousand iOS apps from the App Store. You can download the data set directly from this [link](https://dq-content.s3.amazonaws.com/350/AppleStore.csv).\n",
        "\n",
        "Let's start by opening the two data sets and then continue with exploring the data."
      ],
      "metadata": {
        "id": "LyvUXkXpg5lC"
      }
    },
    {
      "cell_type": "code",
      "source": [
        "!wget https://dq-content.s3.amazonaws.com/350/AppleStore.csv"
      ],
      "metadata": {
        "colab": {
          "base_uri": "https://localhost:8080/"
        },
        "id": "TD4lLCWbPHyL",
        "outputId": "4ad359b0-a2bc-43ce-85f1-fe427149a114"
      },
      "execution_count": 1,
      "outputs": [
        {
          "output_type": "stream",
          "name": "stdout",
          "text": [
            "--2023-03-25 00:49:03--  https://dq-content.s3.amazonaws.com/350/AppleStore.csv\n",
            "Resolving dq-content.s3.amazonaws.com (dq-content.s3.amazonaws.com)... 52.216.52.25, 54.231.195.65, 54.231.200.73, ...\n",
            "Connecting to dq-content.s3.amazonaws.com (dq-content.s3.amazonaws.com)|52.216.52.25|:443... connected.\n",
            "HTTP request sent, awaiting response... 200 OK\n",
            "Length: 725761 (709K) [text/csv]\n",
            "Saving to: ‘AppleStore.csv’\n",
            "\n",
            "AppleStore.csv      100%[===================>] 708.75K  --.-KB/s    in 0.1s    \n",
            "\n",
            "2023-03-25 00:49:03 (4.83 MB/s) - ‘AppleStore.csv’ saved [725761/725761]\n",
            "\n"
          ]
        }
      ]
    },
    {
      "cell_type": "code",
      "source": [
        "!wget https://dq-content.s3.amazonaws.com/350/googleplaystore.csv"
      ],
      "metadata": {
        "colab": {
          "base_uri": "https://localhost:8080/"
        },
        "id": "guFpiESWPHOk",
        "outputId": "3073cfad-b1cb-40e9-ad68-b9eae45ee40a"
      },
      "execution_count": 2,
      "outputs": [
        {
          "output_type": "stream",
          "name": "stdout",
          "text": [
            "--2023-03-25 00:49:03--  https://dq-content.s3.amazonaws.com/350/googleplaystore.csv\n",
            "Resolving dq-content.s3.amazonaws.com (dq-content.s3.amazonaws.com)... 52.216.52.25, 54.231.195.65, 54.231.200.73, ...\n",
            "Connecting to dq-content.s3.amazonaws.com (dq-content.s3.amazonaws.com)|52.216.52.25|:443... connected.\n",
            "HTTP request sent, awaiting response... 200 OK\n",
            "Length: 1349314 (1.3M) [text/csv]\n",
            "Saving to: ‘googleplaystore.csv’\n",
            "\n",
            "googleplaystore.csv 100%[===================>]   1.29M  7.33MB/s    in 0.2s    \n",
            "\n",
            "2023-03-25 00:49:04 (7.33 MB/s) - ‘googleplaystore.csv’ saved [1349314/1349314]\n",
            "\n"
          ]
        }
      ]
    },
    {
      "cell_type": "code",
      "source": [
        "import csv"
      ],
      "metadata": {
        "id": "mX5-BoFFKabL"
      },
      "execution_count": 3,
      "outputs": []
    },
    {
      "cell_type": "code",
      "source": [
        "from typing import TextIO, List, Union, NoReturn"
      ],
      "metadata": {
        "id": "4vwwH0fIYeTd"
      },
      "execution_count": 4,
      "outputs": []
    },
    {
      "cell_type": "code",
      "execution_count": 5,
      "metadata": {
        "id": "-6j5azOaMrlW"
      },
      "outputs": [],
      "source": [
        "import csv\n",
        "class ManipuleCSV:\n",
        "\n",
        "    def __init__(self):\n",
        "        pass\n",
        "    \n",
        "    @classmethod\n",
        "    def open_file(cls, filename: str) -> TextIO:\n",
        "        return open(filename)\n",
        "    \n",
        "    @classmethod\n",
        "    def read_csv(cls, file: TextIO) -> TextIO:\n",
        "        return csv.reader(file)"
      ]
    },
    {
      "cell_type": "code",
      "source": [
        "class ManipuleDataset:\n",
        "    def __init__(self):\n",
        "        pass\n",
        "    \n",
        "    @classmethod\n",
        "    def get_dataset_and_header(\n",
        "        cls, \n",
        "        read_file: TextIO\n",
        "    ) -> Union[List[List],List[List]]: \n",
        "\n",
        "        dataset = list(read_file)\n",
        "        dataset_header = dataset[0]\n",
        "        dataset = dataset[1:]\n",
        "        return dataset, dataset_header\n",
        "\n",
        "    @classmethod\n",
        "    def explore_data(\n",
        "        cls,\n",
        "        dataset: List[List], \n",
        "        start: int, \n",
        "        end: int, \n",
        "        rows_and_columns: bool = False\n",
        "    ) -> NoReturn:\n",
        "\n",
        "        dataset_slice = dataset[start:end]    \n",
        "        for row in dataset_slice:\n",
        "            print(row)\n",
        "            print('\\n') # adds a new (empty) line between rows\n",
        "            \n",
        "        if rows_and_columns:\n",
        "            print('Number of rows:', len(dataset))\n",
        "            print('Number of columns:', len(dataset[0]))    \n",
        "\n",
        "    @classmethod\n",
        "    def remove_duplicates(cls, dataset: List[List]) -> List[List]:\n",
        "        dataset_clean = []\n",
        "        already_added = []\n",
        "\n",
        "        for app in dataset:\n",
        "            name = app[0]\n",
        "            n_reviews = float(app[3])\n",
        "            \n",
        "            if (reviews_max[name] == n_reviews) and (name not in already_added):\n",
        "                dataset_clean.append(app)\n",
        "                already_added.append(name) # make sure this is inside the if block\n",
        "        return dataset_clean\n",
        "\n",
        "    @classmethod\n",
        "    def is_english(cls, string: str) -> bool:       \n",
        "        for character in string:\n",
        "            if ord(character) > 127:\n",
        "                return False    \n",
        "        return True\n",
        "\n",
        "    @classmethod\n",
        "    def is_english_v2(cls, string: str) -> bool:   \n",
        "        non_ascii = 0\n",
        "        \n",
        "        for character in string:\n",
        "            if ord(character) > 127:\n",
        "                non_ascii += 1\n",
        "        \n",
        "        if non_ascii > 3:\n",
        "            return False\n",
        "        else:\n",
        "            return True      \n",
        "\n",
        "    @classmethod\n",
        "    def filter_english_with_is_english_v2(\n",
        "        cls,\n",
        "        dataset_clean: List[List]\n",
        "    ) -> List[List]:    \n",
        "\n",
        "        dataset_english = []\n",
        "\n",
        "        for app in dataset_clean:\n",
        "            name = app[0]\n",
        "            if cls.is_english_v2(name):\n",
        "                dataset_english.append(app)\n",
        "        \n",
        "        return dataset_english\n",
        "\n",
        "    @classmethod\n",
        "    def isolate_free_apps(\n",
        "        cls,\n",
        "        dataset: List[List],\n",
        "        os: str\n",
        "    ) -> List[List]:\n",
        "\n",
        "        dataset_final = []\n",
        "        \n",
        "        appPosition_unit = [7,'0'] if os == 'android' else [4,'0.0']\n",
        "\n",
        "        for app in dataset:\n",
        "            price = app[appPosition_unit[0]]\n",
        "            if price == appPosition_unit[1]:\n",
        "                dataset_final.append(app) \n",
        "        \n",
        "        return dataset_final\n",
        "\n",
        "    @classmethod\n",
        "    def freq_table(\n",
        "        cls,\n",
        "        dataset: List[List], \n",
        "        index: int\n",
        "    ) -> List[List]:\n",
        "\n",
        "        table = {}\n",
        "        total = 0\n",
        "        \n",
        "        for row in dataset:\n",
        "            total += 1\n",
        "            value = row[index]\n",
        "            if value in table:\n",
        "                table[value] += 1\n",
        "            else:\n",
        "                table[value] = 1\n",
        "        \n",
        "        table_percentages = {}\n",
        "        for key in table:\n",
        "            percentage = (table[key] / total) * 100\n",
        "            table_percentages[key] = percentage \n",
        "        \n",
        "        return table_percentages\n",
        "\n",
        "    @classmethod\n",
        "    def display_table(\n",
        "        cls, \n",
        "        dataset: List[List], \n",
        "        index: int\n",
        "        ) -> NoReturn:\n",
        "        table = cls.freq_table(dataset, index)\n",
        "        table_display = []\n",
        "        for key in table:\n",
        "            key_val_as_tuple = (table[key], key)\n",
        "            table_display.append(key_val_as_tuple)\n",
        "            \n",
        "        table_sorted = sorted(table_display, reverse = True)\n",
        "        for entry in table_sorted:\n",
        "            print(entry[1], ':', entry[0])        \n",
        "\n",
        "    @classmethod\n",
        "    def display_number_user_ratings_per_app_genre_app_store(\n",
        "        cls,\n",
        "        dataset_ios: List[List]\n",
        "    ) -> NoReturn:\n",
        "\n",
        "        genres_ios = cls.freq_table(dataset_ios, -5)\n",
        "\n",
        "        for genre in genres_ios:\n",
        "            total = 0\n",
        "            len_genre = 0\n",
        "            for app in dataset_ios:\n",
        "                genre_app = app[-5]\n",
        "                if genre_app == genre:            \n",
        "                    n_ratings = float(app[5])\n",
        "                    total += n_ratings\n",
        "                    len_genre += 1\n",
        "            avg_n_ratings = total / len_genre\n",
        "            print(genre, ':', avg_n_ratings)\n",
        "\n",
        "    @classmethod\n",
        "    def display_num_mean_downloads_category_android(\n",
        "        cls,\n",
        "        dataset_android: List[List] \n",
        "        ) -> NoReturn:\n",
        "\n",
        "        categories_android = mds.freq_table(dataset_android, 1)\n",
        "\n",
        "        for category in categories_android:\n",
        "            total = 0\n",
        "            len_category = 0\n",
        "            for app in dataset_android:\n",
        "                category_app = app[1]\n",
        "                if category_app == category:            \n",
        "                    n_installs = app[5]\n",
        "                    n_installs = n_installs.replace(',', '')\n",
        "                    n_installs = n_installs.replace('+', '')\n",
        "                    total += float(n_installs)\n",
        "                    len_category += 1\n",
        "            avg_n_installs = total / len_category\n",
        "            print(category, ':', avg_n_installs)            "
      ],
      "metadata": {
        "id": "F6gFf7eyWOH0"
      },
      "execution_count": 41,
      "outputs": []
    },
    {
      "cell_type": "code",
      "source": [
        "mcsv = ManipuleCSV()"
      ],
      "metadata": {
        "id": "vphKg0IIKrKO"
      },
      "execution_count": 7,
      "outputs": []
    },
    {
      "cell_type": "code",
      "source": [
        "mds = ManipuleDataset()"
      ],
      "metadata": {
        "id": "BsrD1dBhdn0b"
      },
      "execution_count": 42,
      "outputs": []
    },
    {
      "cell_type": "code",
      "source": [
        "### The Google Play data set ###\n",
        "opened_file = mcsv.open_file('googleplaystore.csv')\n",
        "read_file_android = mcsv.read_csv(opened_file)\n",
        "android, android_header = mds.get_dataset_and_header(read_file_android)"
      ],
      "metadata": {
        "id": "e6lUcpBlLfPF"
      },
      "execution_count": 9,
      "outputs": []
    },
    {
      "cell_type": "code",
      "source": [
        "### The App Store data set ###\n",
        "opened_file = mcsv.open_file('AppleStore.csv')\n",
        "read_file_ios = mcsv.read_csv(opened_file)\n",
        "ios, ios_header = mds.get_dataset_and_header(read_file_ios)"
      ],
      "metadata": {
        "id": "pSuvK5W4O_wb"
      },
      "execution_count": 10,
      "outputs": []
    },
    {
      "cell_type": "markdown",
      "source": [
        "To make it easier to explore the two data sets, we'll first write a function named explore_data() that we can use repeatedly to explore rows in a more readable way. We'll also add an option for our function to show the number of rows and columns for any data set."
      ],
      "metadata": {
        "id": "SeDEsnU7f9kb"
      }
    },
    {
      "cell_type": "code",
      "source": [
        "print(android_header)\n",
        "print('\\n')\n",
        "mds.explore_data(android, 0, 3, True)"
      ],
      "metadata": {
        "colab": {
          "base_uri": "https://localhost:8080/"
        },
        "id": "rVgdncLoKoEn",
        "outputId": "c42f373d-d9dd-4d06-eae4-b98f45554354"
      },
      "execution_count": 11,
      "outputs": [
        {
          "output_type": "stream",
          "name": "stdout",
          "text": [
            "['App', 'Category', 'Rating', 'Reviews', 'Size', 'Installs', 'Type', 'Price', 'Content Rating', 'Genres', 'Last Updated', 'Current Ver', 'Android Ver']\n",
            "\n",
            "\n",
            "['Photo Editor & Candy Camera & Grid & ScrapBook', 'ART_AND_DESIGN', '4.1', '159', '19M', '10,000+', 'Free', '0', 'Everyone', 'Art & Design', 'January 7, 2018', '1.0.0', '4.0.3 and up']\n",
            "\n",
            "\n",
            "['Coloring book moana', 'ART_AND_DESIGN', '3.9', '967', '14M', '500,000+', 'Free', '0', 'Everyone', 'Art & Design;Pretend Play', 'January 15, 2018', '2.0.0', '4.0.3 and up']\n",
            "\n",
            "\n",
            "['U Launcher Lite – FREE Live Cool Themes, Hide Apps', 'ART_AND_DESIGN', '4.7', '87510', '8.7M', '5,000,000+', 'Free', '0', 'Everyone', 'Art & Design', 'August 1, 2018', '1.2.4', '4.0.3 and up']\n",
            "\n",
            "\n",
            "Number of rows: 10841\n",
            "Number of columns: 13\n"
          ]
        }
      ]
    },
    {
      "cell_type": "code",
      "source": [
        "print(ios_header)\n",
        "print('\\n')\n",
        "mds.explore_data(ios, 0, 3, True)"
      ],
      "metadata": {
        "colab": {
          "base_uri": "https://localhost:8080/"
        },
        "id": "YhCGONcPgsbM",
        "outputId": "8afe104d-22ad-4343-9591-7cfa477f5ffd"
      },
      "execution_count": 12,
      "outputs": [
        {
          "output_type": "stream",
          "name": "stdout",
          "text": [
            "['id', 'track_name', 'size_bytes', 'currency', 'price', 'rating_count_tot', 'rating_count_ver', 'user_rating', 'user_rating_ver', 'ver', 'cont_rating', 'prime_genre', 'sup_devices.num', 'ipadSc_urls.num', 'lang.num', 'vpp_lic']\n",
            "\n",
            "\n",
            "['284882215', 'Facebook', '389879808', 'USD', '0.0', '2974676', '212', '3.5', '3.5', '95.0', '4+', 'Social Networking', '37', '1', '29', '1']\n",
            "\n",
            "\n",
            "['389801252', 'Instagram', '113954816', 'USD', '0.0', '2161558', '1289', '4.5', '4.0', '10.23', '12+', 'Photo & Video', '37', '0', '29', '1']\n",
            "\n",
            "\n",
            "['529479190', 'Clash of Clans', '116476928', 'USD', '0.0', '2130805', '579', '4.5', '4.5', '9.24.12', '9+', 'Games', '38', '5', '18', '1']\n",
            "\n",
            "\n",
            "Number of rows: 7197\n",
            "Number of columns: 16\n"
          ]
        }
      ]
    },
    {
      "cell_type": "markdown",
      "source": [
        "<h3> Deleting Wrong Data </h3>\n",
        "\n",
        "The Google Play data set has a dedicated discussion section, and we can see that one of the discussions outlines an error for row 10472. Let's print this row and compare it against the header and another row that is correct."
      ],
      "metadata": {
        "id": "GCk2ZOsCiAR1"
      }
    },
    {
      "cell_type": "code",
      "source": [
        "print(android[10472])  # incorrect row\n",
        "print('\\n')\n",
        "print(android_header)  # header\n",
        "print('\\n')\n",
        "print(android[0])      # correct row"
      ],
      "metadata": {
        "colab": {
          "base_uri": "https://localhost:8080/"
        },
        "id": "3epbzp4PioZC",
        "outputId": "a6766aa4-cb08-415b-df7f-eaf0dda38a83"
      },
      "execution_count": 13,
      "outputs": [
        {
          "output_type": "stream",
          "name": "stdout",
          "text": [
            "['Life Made WI-Fi Touchscreen Photo Frame', '1.9', '19', '3.0M', '1,000+', 'Free', '0', 'Everyone', '', 'February 11, 2018', '1.0.19', '4.0 and up']\n",
            "\n",
            "\n",
            "['App', 'Category', 'Rating', 'Reviews', 'Size', 'Installs', 'Type', 'Price', 'Content Rating', 'Genres', 'Last Updated', 'Current Ver', 'Android Ver']\n",
            "\n",
            "\n",
            "['Photo Editor & Candy Camera & Grid & ScrapBook', 'ART_AND_DESIGN', '4.1', '159', '19M', '10,000+', 'Free', '0', 'Everyone', 'Art & Design', 'January 7, 2018', '1.0.0', '4.0.3 and up']\n"
          ]
        }
      ]
    },
    {
      "cell_type": "markdown",
      "source": [
        "The row 10472 corresponds to the app Life Made WI-Fi Touchscreen Photo Frame, and we can see that the rating is 19. This is clearly off because the maximum rating for a Google Play app is 5 (as mentioned in the discussions section, this problem is caused by a missing value in the 'Category' column). As a consequence, we'll delete this row."
      ],
      "metadata": {
        "id": "WRf8FEkLitDv"
      }
    },
    {
      "cell_type": "code",
      "source": [
        "print(len(android))\n",
        "del android[10472]  # don't run this more than once\n",
        "print(len(android))"
      ],
      "metadata": {
        "colab": {
          "base_uri": "https://localhost:8080/"
        },
        "id": "SXmG2z10isZg",
        "outputId": "c5c9b415-6329-4596-d313-94305251333f"
      },
      "execution_count": 14,
      "outputs": [
        {
          "output_type": "stream",
          "name": "stdout",
          "text": [
            "10841\n",
            "10840\n"
          ]
        }
      ]
    },
    {
      "cell_type": "markdown",
      "source": [
        "<h3> Removing Duplicate Entries </h3>\n",
        "\n",
        "<h4> Part One </h4>\n",
        "\n",
        "If we explore the Google Play data set long enough, we'll find that some apps have more than one entry. For instance, the application Instagram has four entries:"
      ],
      "metadata": {
        "id": "O2qgSxKhjK5Y"
      }
    },
    {
      "cell_type": "code",
      "source": [
        "for app in android:\n",
        "    name = app[0]\n",
        "    if name == 'Instagram':\n",
        "        print(app)"
      ],
      "metadata": {
        "colab": {
          "base_uri": "https://localhost:8080/"
        },
        "id": "MFd0nQ-sj-cb",
        "outputId": "3e033c8c-9671-4bf5-9ca7-8e7be460c497"
      },
      "execution_count": 15,
      "outputs": [
        {
          "output_type": "stream",
          "name": "stdout",
          "text": [
            "['Instagram', 'SOCIAL', '4.5', '66577313', 'Varies with device', '1,000,000,000+', 'Free', '0', 'Teen', 'Social', 'July 31, 2018', 'Varies with device', 'Varies with device']\n",
            "['Instagram', 'SOCIAL', '4.5', '66577446', 'Varies with device', '1,000,000,000+', 'Free', '0', 'Teen', 'Social', 'July 31, 2018', 'Varies with device', 'Varies with device']\n",
            "['Instagram', 'SOCIAL', '4.5', '66577313', 'Varies with device', '1,000,000,000+', 'Free', '0', 'Teen', 'Social', 'July 31, 2018', 'Varies with device', 'Varies with device']\n",
            "['Instagram', 'SOCIAL', '4.5', '66509917', 'Varies with device', '1,000,000,000+', 'Free', '0', 'Teen', 'Social', 'July 31, 2018', 'Varies with device', 'Varies with device']\n"
          ]
        }
      ]
    },
    {
      "cell_type": "markdown",
      "source": [
        "In total, there are 1,181 cases where an app occurs more than once:"
      ],
      "metadata": {
        "id": "l8F4zu01kjMK"
      }
    },
    {
      "cell_type": "code",
      "source": [
        "duplicate_apps = []\n",
        "unique_apps = []\n",
        "\n",
        "for app in android:\n",
        "    name = app[0]\n",
        "    if name in unique_apps:\n",
        "        duplicate_apps.append(name)\n",
        "    else:\n",
        "        unique_apps.append(name)\n",
        "    \n",
        "print('Number of duplicate apps:', len(duplicate_apps))\n",
        "print('\\n')\n",
        "print('Examples of duplicate apps:', duplicate_apps[:15])"
      ],
      "metadata": {
        "colab": {
          "base_uri": "https://localhost:8080/"
        },
        "id": "SOKgmpDNkaSi",
        "outputId": "86bc04b6-5c00-43de-b44c-22009e794378"
      },
      "execution_count": 16,
      "outputs": [
        {
          "output_type": "stream",
          "name": "stdout",
          "text": [
            "Number of duplicate apps: 1181\n",
            "\n",
            "\n",
            "Examples of duplicate apps: ['Quick PDF Scanner + OCR FREE', 'Box', 'Google My Business', 'ZOOM Cloud Meetings', 'join.me - Simple Meetings', 'Box', 'Zenefits', 'Google Ads', 'Google My Business', 'Slack', 'FreshBooks Classic', 'Insightly CRM', 'QuickBooks Accounting: Invoicing & Expenses', 'HipChat - Chat Built for Teams', 'Xero Accounting Software']\n"
          ]
        }
      ]
    },
    {
      "cell_type": "markdown",
      "source": [
        "We don't want to count certain apps more than once when we analyze data, so we need to remove the duplicate entries and keep only one entry per app. One thing we could do is remove the duplicate rows randomly, but we could probably find a better way.\n",
        "\n",
        "If you examine the rows we printed two cells above for the Instagram app, the main difference happens on the fourth position of each row, which corresponds to the number of reviews. The different numbers show that the data was collected at different times. We can use this to build a criterion for keeping rows. We won't remove rows randomly, but rather we'll keep the rows that have the highest number of reviews because the higher the number of reviews, the more reliable the ratings.\n",
        "\n",
        "To do that, we will:\n",
        "\n",
        "* Create a dictionary where each key is a unique app name, and the value is the highest number of reviews of that app\n",
        "\n",
        "* Use the dictionary to create a new data set, which will have only one entry per app (and we only select the apps with the highest number of reviews)"
      ],
      "metadata": {
        "id": "DChfRVfTknYL"
      }
    },
    {
      "cell_type": "markdown",
      "source": [
        "<h4> Part Two </h4>"
      ],
      "metadata": {
        "id": "4UdW_hyUl14i"
      }
    },
    {
      "cell_type": "markdown",
      "source": [
        "Let's start by building the dictionary."
      ],
      "metadata": {
        "id": "bRT4kvDfl-Mw"
      }
    },
    {
      "cell_type": "code",
      "source": [
        "reviews_max = {}\n",
        "\n",
        "for app in android:\n",
        "    name = app[0]\n",
        "    n_reviews = float(app[3])\n",
        "    \n",
        "    if name in reviews_max and reviews_max[name] < n_reviews:\n",
        "        reviews_max[name] = n_reviews\n",
        "        \n",
        "    elif name not in reviews_max:\n",
        "        reviews_max[name] = n_reviews"
      ],
      "metadata": {
        "id": "ZKVOyXSclzuq"
      },
      "execution_count": 17,
      "outputs": []
    },
    {
      "cell_type": "markdown",
      "source": [
        "In a previous code cell, we found that there are 1,181 cases where an app occurs more than once, so the length of our dictionary (of unique apps) should be equal to the difference between the length of our data set and 1,181."
      ],
      "metadata": {
        "id": "qqOqfQTzpRng"
      }
    },
    {
      "cell_type": "code",
      "source": [
        "print('Expected length:', len(android) - 1181)\n",
        "print('Actual length:', len(reviews_max))"
      ],
      "metadata": {
        "colab": {
          "base_uri": "https://localhost:8080/"
        },
        "id": "FOdYD9BMptZZ",
        "outputId": "c7e25163-926d-4a4b-eb3b-a9dcff3d156c"
      },
      "execution_count": 18,
      "outputs": [
        {
          "output_type": "stream",
          "name": "stdout",
          "text": [
            "Expected length: 9659\n",
            "Actual length: 9659\n"
          ]
        }
      ]
    },
    {
      "cell_type": "markdown",
      "source": [
        "Now, let's use the reviews_max dictionary to remove the duplicates. For the duplicate cases, we'll only keep the entries with the highest number of reviews. In the code cell below:\n",
        "\n",
        "We start by initializing two empty lists, android_clean and already_added.\n",
        "\n",
        "We loop through the android data set, and for every iteration:\n",
        "\n",
        "* We isolate the name of the app and the number of reviews.\n",
        "\n",
        "* We add the current row (app) to the android_clean list, and the app name (name) to the already_added list if:\n",
        "\n",
        "* The number of reviews of the current app matches the number of reviews of that app as described in the reviews_max dictionary; and\n",
        "\n",
        "* The name of the app is not already in the already_added list. We need to add this supplementary condition to account for those cases where the highest number of reviews of a duplicate app is the same for more than one entry (for example, the Box app has three entries, and the number of reviews is the same). If we just check for reviews_max[name] == n_reviews, we'll still end up with duplicate entries for some apps."
      ],
      "metadata": {
        "id": "pYuwl6xxpzsi"
      }
    },
    {
      "cell_type": "code",
      "source": [
        "android_clean = mds.remove_duplicates(android)"
      ],
      "metadata": {
        "id": "rD9nXktEpugV"
      },
      "execution_count": 19,
      "outputs": []
    },
    {
      "cell_type": "markdown",
      "source": [
        "Now let's quickly explore the new data set, and confirm that the number of rows is 9,659."
      ],
      "metadata": {
        "id": "sN_2DX8brMoT"
      }
    },
    {
      "cell_type": "code",
      "source": [
        "mds.explore_data(android_clean, 0, 3, True)"
      ],
      "metadata": {
        "colab": {
          "base_uri": "https://localhost:8080/"
        },
        "id": "npq_Qs4JrOml",
        "outputId": "48835513-c34e-437d-ddc9-e39dea638f21"
      },
      "execution_count": 20,
      "outputs": [
        {
          "output_type": "stream",
          "name": "stdout",
          "text": [
            "['Photo Editor & Candy Camera & Grid & ScrapBook', 'ART_AND_DESIGN', '4.1', '159', '19M', '10,000+', 'Free', '0', 'Everyone', 'Art & Design', 'January 7, 2018', '1.0.0', '4.0.3 and up']\n",
            "\n",
            "\n",
            "['U Launcher Lite – FREE Live Cool Themes, Hide Apps', 'ART_AND_DESIGN', '4.7', '87510', '8.7M', '5,000,000+', 'Free', '0', 'Everyone', 'Art & Design', 'August 1, 2018', '1.2.4', '4.0.3 and up']\n",
            "\n",
            "\n",
            "['Sketch - Draw & Paint', 'ART_AND_DESIGN', '4.5', '215644', '25M', '50,000,000+', 'Free', '0', 'Teen', 'Art & Design', 'June 8, 2018', 'Varies with device', '4.2 and up']\n",
            "\n",
            "\n",
            "Number of rows: 9659\n",
            "Number of columns: 13\n"
          ]
        }
      ]
    },
    {
      "cell_type": "markdown",
      "source": [
        "<h3> Removing Non-English Apps </h3>\n",
        "\n",
        "<h4> Part One </h4>\n",
        "\n",
        "If you explore the data sets enough, you'll notice the names of some of the apps suggest they are not directed toward an English-speaking audience. Below, we see a couple of examples from both data sets:"
      ],
      "metadata": {
        "id": "CqIbPvDFrVQu"
      }
    },
    {
      "cell_type": "code",
      "source": [
        "print(ios[813][1])\n",
        "print(ios[6731][1])\n",
        "\n",
        "print(android_clean[4412][0])\n",
        "print(android_clean[7940][0])"
      ],
      "metadata": {
        "colab": {
          "base_uri": "https://localhost:8080/"
        },
        "id": "-5o-QovKri0K",
        "outputId": "33a71f0f-a692-4757-812b-7f6796c2c405"
      },
      "execution_count": 21,
      "outputs": [
        {
          "output_type": "stream",
          "name": "stdout",
          "text": [
            "爱奇艺PPS -《欢乐颂2》电视剧热播\n",
            "【脱出ゲーム】絶対に最後までプレイしないで 〜謎解き＆ブロックパズル〜\n",
            "中国語 AQリスニング\n",
            "لعبة تقدر تربح DZ\n"
          ]
        }
      ]
    },
    {
      "cell_type": "markdown",
      "source": [
        "We're not interested in keeping these kind of apps, so we'll remove them. One way to go about this is to remove each app whose name contains a symbol that is not commonly used in English text — English text usually includes letters from the English alphabet, numbers composed of digits from 0 to 9, punctuation marks (., !, ?, ;, etc.), and other symbols (+, *, /, etc.).\n",
        "\n",
        "All these characters that are specific to English texts are encoded using the ASCII standard. Each ASCII character has a corresponding number between 0 and 127 associated with it, and we can take advantage of that to build a function that checks an app name and tells us whether it contains non-ASCII characters.\n",
        "\n",
        "We built this function below, and we use the built-in ord() function to find out the corresponding encoding number of each character."
      ],
      "metadata": {
        "id": "nDj4CLLRro8f"
      }
    },
    {
      "cell_type": "code",
      "source": [
        "print(mds.is_english('Instagram'))\n",
        "print(mds.is_english('爱奇艺PPS -《欢乐颂2》电视剧热播'))"
      ],
      "metadata": {
        "colab": {
          "base_uri": "https://localhost:8080/"
        },
        "id": "1guOaam0rj5i",
        "outputId": "9e5f838e-a5b7-4899-e99e-ecdd6dcd0775"
      },
      "execution_count": 22,
      "outputs": [
        {
          "output_type": "stream",
          "name": "stdout",
          "text": [
            "True\n",
            "False\n"
          ]
        }
      ]
    },
    {
      "cell_type": "markdown",
      "source": [
        "The function seems to work fine, but some English app names use emojis or other symbols (™, — (em dash), – (en dash), etc.) that fall outside of the ASCII range. Because of this, we'll remove useful apps if we use the function in its current form."
      ],
      "metadata": {
        "id": "_R7faVYPr_UZ"
      }
    },
    {
      "cell_type": "code",
      "source": [
        "print(mds.is_english('Docs To Go™ Free Office Suite'))\n",
        "print(mds.is_english('Instachat 😜'))\n",
        "\n",
        "print(ord('™'))\n",
        "print(ord('😜'))"
      ],
      "metadata": {
        "colab": {
          "base_uri": "https://localhost:8080/"
        },
        "id": "_meC9hn0sA4r",
        "outputId": "6d19b486-7562-4870-8be7-b2aaa6f9f0ad"
      },
      "execution_count": 23,
      "outputs": [
        {
          "output_type": "stream",
          "name": "stdout",
          "text": [
            "False\n",
            "False\n",
            "8482\n",
            "128540\n"
          ]
        }
      ]
    },
    {
      "cell_type": "markdown",
      "source": [
        "<h4> Part Two </h4>\n",
        "\n",
        "To minimize the impact of data loss, we'll only remove an app if its name has more than three non-ASCII characters:"
      ],
      "metadata": {
        "id": "-ORGF14rsIZm"
      }
    },
    {
      "cell_type": "code",
      "source": [
        "print(mds.is_english_v2('Docs To Go™ Free Office Suite'))\n",
        "print(mds.is_english('Instachat 😜'))"
      ],
      "metadata": {
        "colab": {
          "base_uri": "https://localhost:8080/"
        },
        "id": "sSv-lfJ-scXT",
        "outputId": "1aea8f89-814f-4466-b3c6-ab1260c94757"
      },
      "execution_count": 24,
      "outputs": [
        {
          "output_type": "stream",
          "name": "stdout",
          "text": [
            "True\n",
            "False\n"
          ]
        }
      ]
    },
    {
      "cell_type": "markdown",
      "source": [
        "The function is still not perfect, and very few non-English apps might get past our filter, but this seems good enough at this point in our analysis — we shouldn't spend too much time on optimization at this point."
      ],
      "metadata": {
        "id": "s-9TtL4Gswzb"
      }
    },
    {
      "cell_type": "markdown",
      "source": [
        "Below, we use the is_english_v2() function to filter out the non-English apps for both data sets:"
      ],
      "metadata": {
        "id": "aDEru91cs0-K"
      }
    },
    {
      "cell_type": "code",
      "source": [
        "android_english = mds.filter_english_with_is_english_v2(android_clean)\n",
        "ios_english = mds.filter_english_with_is_english_v2(ios)"
      ],
      "metadata": {
        "id": "Xlfo5G-cfsgv"
      },
      "execution_count": 25,
      "outputs": []
    },
    {
      "cell_type": "code",
      "source": [
        "mds.explore_data(android_english, 0, 3, True)\n",
        "print('\\n')\n",
        "mds.explore_data(ios_english, 0, 3, True)"
      ],
      "metadata": {
        "id": "kmOBVfYzsYeL",
        "colab": {
          "base_uri": "https://localhost:8080/"
        },
        "outputId": "5a1ccc82-3cbe-46b3-b88a-cad72e0aa948"
      },
      "execution_count": 26,
      "outputs": [
        {
          "output_type": "stream",
          "name": "stdout",
          "text": [
            "['Photo Editor & Candy Camera & Grid & ScrapBook', 'ART_AND_DESIGN', '4.1', '159', '19M', '10,000+', 'Free', '0', 'Everyone', 'Art & Design', 'January 7, 2018', '1.0.0', '4.0.3 and up']\n",
            "\n",
            "\n",
            "['U Launcher Lite – FREE Live Cool Themes, Hide Apps', 'ART_AND_DESIGN', '4.7', '87510', '8.7M', '5,000,000+', 'Free', '0', 'Everyone', 'Art & Design', 'August 1, 2018', '1.2.4', '4.0.3 and up']\n",
            "\n",
            "\n",
            "['Sketch - Draw & Paint', 'ART_AND_DESIGN', '4.5', '215644', '25M', '50,000,000+', 'Free', '0', 'Teen', 'Art & Design', 'June 8, 2018', 'Varies with device', '4.2 and up']\n",
            "\n",
            "\n",
            "Number of rows: 9614\n",
            "Number of columns: 13\n",
            "\n",
            "\n",
            "['284882215', 'Facebook', '389879808', 'USD', '0.0', '2974676', '212', '3.5', '3.5', '95.0', '4+', 'Social Networking', '37', '1', '29', '1']\n",
            "\n",
            "\n",
            "['389801252', 'Instagram', '113954816', 'USD', '0.0', '2161558', '1289', '4.5', '4.0', '10.23', '12+', 'Photo & Video', '37', '0', '29', '1']\n",
            "\n",
            "\n",
            "['529479190', 'Clash of Clans', '116476928', 'USD', '0.0', '2130805', '579', '4.5', '4.5', '9.24.12', '9+', 'Games', '38', '5', '18', '1']\n",
            "\n",
            "\n",
            "Number of rows: 7197\n",
            "Number of columns: 16\n"
          ]
        }
      ]
    },
    {
      "cell_type": "markdown",
      "source": [
        "We can see that we're left with 9614 Android apps and 6183 iOS apps."
      ],
      "metadata": {
        "id": "wA9a7XN9c3rD"
      }
    },
    {
      "cell_type": "markdown",
      "source": [
        "<h4> Isolating the Free Apps </h4>"
      ],
      "metadata": {
        "id": "0LlH9M-pghCJ"
      }
    },
    {
      "cell_type": "markdown",
      "source": [
        "As we mentioned in the introduction, we only build apps that are free to download and install, and our main source of revenue consists of in-app ads. Our data sets contain both free and non-free apps, and we'll need to isolate only the free apps for our analysis. Below, we isolate the free apps for both our data sets."
      ],
      "metadata": {
        "id": "WBQr-82nhcA-"
      }
    },
    {
      "cell_type": "code",
      "source": [
        "android_final = mds.isolate_free_apps(android_english, 'android')\n",
        "ios_final = mds.isolate_free_apps(ios_english, 'ios')"
      ],
      "metadata": {
        "id": "EzdFUXNdl028"
      },
      "execution_count": 27,
      "outputs": []
    },
    {
      "cell_type": "code",
      "source": [
        "print(len(android_final))\n",
        "print(len(ios_final))"
      ],
      "metadata": {
        "colab": {
          "base_uri": "https://localhost:8080/"
        },
        "id": "P2z_9Fmoc2wK",
        "outputId": "ea6ea96f-1f09-414c-cda4-0fc6d772cbe4"
      },
      "execution_count": 28,
      "outputs": [
        {
          "output_type": "stream",
          "name": "stdout",
          "text": [
            "8864\n",
            "4056\n"
          ]
        }
      ]
    },
    {
      "cell_type": "markdown",
      "source": [
        "We're left with 8864 Android apps and 3222 iOS apps, which should be enough for our analysis."
      ],
      "metadata": {
        "id": "PmcAPtdGmjDY"
      }
    },
    {
      "cell_type": "markdown",
      "source": [
        "<h3> Most Common Apps by Genre </h3>\n",
        "\n",
        "<h4> Part One </h4> \n",
        "\n",
        "As we mentioned in the introduction, our aim is to determine the kinds of apps that are likely to attract more users because our revenue is highly influenced by the number of people using our apps.\n",
        "\n",
        "To minimize risks and overhead, our validation strategy for an app idea is comprised of three steps:\n",
        "\n",
        "1. Build a minimal Android version of the app, and add it to Google Play.\n",
        "\n",
        "2. If the app has a good response from users, we then develop it further.\n",
        "\n",
        "3. If the app is profitable after six months, we also build an iOS version of the app and add it to the App Store.\n",
        "\n",
        "Because our end goal is to add the app on both the App Store and Google Play, we need to find app profiles that are successful on both markets. For instance, a profile that might work well for both markets might be a productivity app that makes use of gamification.\n",
        "\n",
        "Let's begin the analysis by getting a sense of the most common genres for each market. For this, we'll build a frequency table for the prime_genre column of the App Store data set, and the Genres and Category columns of the Google Play data set."
      ],
      "metadata": {
        "id": "qFgQquNimnXp"
      }
    },
    {
      "cell_type": "markdown",
      "source": [
        "<h4> Part Two </h4>\n",
        "\n",
        "We'll build two functions we can use to analyze the frequency tables:\n",
        "\n",
        "* One function to generate frequency tables that show percentages\n",
        "\n",
        "* Another function that we can use to display the percentages in a descending order"
      ],
      "metadata": {
        "id": "umufW1OznPhw"
      }
    },
    {
      "cell_type": "markdown",
      "source": [
        "<h4> Part Three </h4>"
      ],
      "metadata": {
        "id": "TcfJW5gony3D"
      }
    },
    {
      "cell_type": "markdown",
      "source": [
        "We start by examining the frequency table for the `prime_genre` column of the App Store data set."
      ],
      "metadata": {
        "id": "H8ZL_ka5n4P8"
      }
    },
    {
      "cell_type": "code",
      "source": [
        "mds.display_table(ios_final, -5)"
      ],
      "metadata": {
        "colab": {
          "base_uri": "https://localhost:8080/"
        },
        "id": "4doTfCyUmkOq",
        "outputId": "c7858e7b-776c-43b2-bdc3-70aeac53230c"
      },
      "execution_count": 29,
      "outputs": [
        {
          "output_type": "stream",
          "name": "stdout",
          "text": [
            "Games : 55.64595660749507\n",
            "Entertainment : 8.234714003944774\n",
            "Photo & Video : 4.117357001972387\n",
            "Social Networking : 3.5256410256410255\n",
            "Education : 3.2544378698224854\n",
            "Shopping : 2.983234714003945\n",
            "Utilities : 2.687376725838264\n",
            "Lifestyle : 2.3175542406311638\n",
            "Finance : 2.0710059171597637\n",
            "Sports : 1.947731755424063\n",
            "Health & Fitness : 1.8737672583826428\n",
            "Music : 1.6518737672583828\n",
            "Book : 1.6272189349112427\n",
            "Productivity : 1.5285996055226825\n",
            "News : 1.4299802761341223\n",
            "Travel : 1.3806706114398422\n",
            "Food & Drink : 1.0601577909270217\n",
            "Weather : 0.7642998027613412\n",
            "Reference : 0.4930966469428008\n",
            "Navigation : 0.4930966469428008\n",
            "Business : 0.4930966469428008\n",
            "Catalogs : 0.22189349112426035\n",
            "Medical : 0.19723865877712032\n"
          ]
        }
      ]
    },
    {
      "cell_type": "markdown",
      "source": [
        "We can see that among the free English apps, more than a half (58.16%) are games. Entertainment apps are close to 8%, followed by photo and video apps, which are close to 5%. Only 3.66% of the apps are designed for education, followed by social networking apps which amount for 3.29% of the apps in our data set.\n",
        "\n",
        "The general impression is that App Store (at least the part containing free English apps) is dominated by apps that are designed for fun (games, entertainment, photo and video, social networking, sports, music, etc.), while apps with practical purposes (education, shopping, utilities, productivity, lifestyle, etc.) are more rare. However, the fact that fun apps are the most numerous doesn't also imply that they also have the greatest number of users — the demand might not be the same as the offer.\n",
        "\n",
        "Let's continue by examining the `Genres` and `Category` columns of the Google Play data set (two columns which seem to be related)."
      ],
      "metadata": {
        "id": "q-7GMisdPYqF"
      }
    },
    {
      "cell_type": "code",
      "source": [
        "mds.display_table(android_final, 1) # Category"
      ],
      "metadata": {
        "colab": {
          "base_uri": "https://localhost:8080/"
        },
        "id": "tva7RU4bmi9A",
        "outputId": "f3c5d29c-380d-4fb0-ce67-d2a579fc5215"
      },
      "execution_count": 31,
      "outputs": [
        {
          "output_type": "stream",
          "name": "stdout",
          "text": [
            "FAMILY : 18.907942238267147\n",
            "GAME : 9.724729241877256\n",
            "TOOLS : 8.461191335740072\n",
            "BUSINESS : 4.591606498194946\n",
            "LIFESTYLE : 3.9034296028880866\n",
            "PRODUCTIVITY : 3.892148014440433\n",
            "FINANCE : 3.7003610108303246\n",
            "MEDICAL : 3.531137184115524\n",
            "SPORTS : 3.395758122743682\n",
            "PERSONALIZATION : 3.3167870036101084\n",
            "COMMUNICATION : 3.2378158844765346\n",
            "HEALTH_AND_FITNESS : 3.0798736462093865\n",
            "PHOTOGRAPHY : 2.944494584837545\n",
            "NEWS_AND_MAGAZINES : 2.7978339350180503\n",
            "SOCIAL : 2.6624548736462095\n",
            "TRAVEL_AND_LOCAL : 2.33528880866426\n",
            "SHOPPING : 2.2450361010830324\n",
            "BOOKS_AND_REFERENCE : 2.1435018050541514\n",
            "DATING : 1.861462093862816\n",
            "VIDEO_PLAYERS : 1.7937725631768955\n",
            "MAPS_AND_NAVIGATION : 1.3989169675090252\n",
            "FOOD_AND_DRINK : 1.2409747292418771\n",
            "EDUCATION : 1.1620036101083033\n",
            "ENTERTAINMENT : 0.9589350180505415\n",
            "LIBRARIES_AND_DEMO : 0.9363718411552346\n",
            "AUTO_AND_VEHICLES : 0.9250902527075812\n",
            "HOUSE_AND_HOME : 0.8235559566787004\n",
            "WEATHER : 0.8009927797833934\n",
            "EVENTS : 0.7107400722021661\n",
            "PARENTING : 0.6543321299638989\n",
            "ART_AND_DESIGN : 0.6430505415162455\n",
            "COMICS : 0.6204873646209386\n",
            "BEAUTY : 0.5979241877256317\n"
          ]
        }
      ]
    },
    {
      "cell_type": "markdown",
      "source": [
        "The landscape seems significantly different on Google Play: there are not that many apps designed for fun, and it seems that a good number of apps are designed for practical purposes (family, tools, business, lifestyle, productivity, etc.). However, if we investigate this further, we can see that the family category (which accounts for almost 19% of the apps) means mostly games for kids."
      ],
      "metadata": {
        "id": "902-u1uoQeaR"
      }
    },
    {
      "cell_type": "markdown",
      "source": [
        "Even so, practical apps seem to have a better representation on Google Play compared to App Store. This picture is also confirmed by the frequency table we see for the `Genres` column:"
      ],
      "metadata": {
        "id": "PaTDCFs6Qh3y"
      }
    },
    {
      "cell_type": "code",
      "source": [
        "mds.display_table(android_final, -4)"
      ],
      "metadata": {
        "colab": {
          "base_uri": "https://localhost:8080/"
        },
        "id": "cr6s_jfXQl4W",
        "outputId": "f700a41c-963a-4b10-f019-75f428f61c40"
      },
      "execution_count": 32,
      "outputs": [
        {
          "output_type": "stream",
          "name": "stdout",
          "text": [
            "Tools : 8.449909747292418\n",
            "Entertainment : 6.069494584837545\n",
            "Education : 5.347472924187725\n",
            "Business : 4.591606498194946\n",
            "Productivity : 3.892148014440433\n",
            "Lifestyle : 3.892148014440433\n",
            "Finance : 3.7003610108303246\n",
            "Medical : 3.531137184115524\n",
            "Sports : 3.463447653429603\n",
            "Personalization : 3.3167870036101084\n",
            "Communication : 3.2378158844765346\n",
            "Action : 3.1024368231046933\n",
            "Health & Fitness : 3.0798736462093865\n",
            "Photography : 2.944494584837545\n",
            "News & Magazines : 2.7978339350180503\n",
            "Social : 2.6624548736462095\n",
            "Travel & Local : 2.3240072202166067\n",
            "Shopping : 2.2450361010830324\n",
            "Books & Reference : 2.1435018050541514\n",
            "Simulation : 2.0419675090252705\n",
            "Dating : 1.861462093862816\n",
            "Arcade : 1.8501805054151623\n",
            "Video Players & Editors : 1.7712093862815883\n",
            "Casual : 1.7599277978339352\n",
            "Maps & Navigation : 1.3989169675090252\n",
            "Food & Drink : 1.2409747292418771\n",
            "Puzzle : 1.128158844765343\n",
            "Racing : 0.9927797833935018\n",
            "Role Playing : 0.9363718411552346\n",
            "Libraries & Demo : 0.9363718411552346\n",
            "Auto & Vehicles : 0.9250902527075812\n",
            "Strategy : 0.9138086642599278\n",
            "House & Home : 0.8235559566787004\n",
            "Weather : 0.8009927797833934\n",
            "Events : 0.7107400722021661\n",
            "Adventure : 0.6768953068592057\n",
            "Comics : 0.6092057761732852\n",
            "Beauty : 0.5979241877256317\n",
            "Art & Design : 0.5979241877256317\n",
            "Parenting : 0.4963898916967509\n",
            "Card : 0.45126353790613716\n",
            "Casino : 0.42870036101083037\n",
            "Trivia : 0.41741877256317694\n",
            "Educational;Education : 0.39485559566787\n",
            "Board : 0.3835740072202166\n",
            "Educational : 0.3722924187725632\n",
            "Education;Education : 0.33844765342960287\n",
            "Word : 0.2594765342960289\n",
            "Casual;Pretend Play : 0.236913357400722\n",
            "Music : 0.2030685920577617\n",
            "Racing;Action & Adventure : 0.16922382671480143\n",
            "Puzzle;Brain Games : 0.16922382671480143\n",
            "Entertainment;Music & Video : 0.16922382671480143\n",
            "Casual;Brain Games : 0.13537906137184114\n",
            "Casual;Action & Adventure : 0.13537906137184114\n",
            "Arcade;Action & Adventure : 0.12409747292418773\n",
            "Action;Action & Adventure : 0.10153429602888085\n",
            "Educational;Pretend Play : 0.09025270758122744\n",
            "Simulation;Action & Adventure : 0.078971119133574\n",
            "Parenting;Education : 0.078971119133574\n",
            "Entertainment;Brain Games : 0.078971119133574\n",
            "Board;Brain Games : 0.078971119133574\n",
            "Parenting;Music & Video : 0.06768953068592057\n",
            "Educational;Brain Games : 0.06768953068592057\n",
            "Casual;Creativity : 0.06768953068592057\n",
            "Art & Design;Creativity : 0.06768953068592057\n",
            "Education;Pretend Play : 0.056407942238267145\n",
            "Role Playing;Pretend Play : 0.04512635379061372\n",
            "Education;Creativity : 0.04512635379061372\n",
            "Role Playing;Action & Adventure : 0.033844765342960284\n",
            "Puzzle;Action & Adventure : 0.033844765342960284\n",
            "Entertainment;Creativity : 0.033844765342960284\n",
            "Entertainment;Action & Adventure : 0.033844765342960284\n",
            "Educational;Creativity : 0.033844765342960284\n",
            "Educational;Action & Adventure : 0.033844765342960284\n",
            "Education;Music & Video : 0.033844765342960284\n",
            "Education;Brain Games : 0.033844765342960284\n",
            "Education;Action & Adventure : 0.033844765342960284\n",
            "Adventure;Action & Adventure : 0.033844765342960284\n",
            "Video Players & Editors;Music & Video : 0.02256317689530686\n",
            "Sports;Action & Adventure : 0.02256317689530686\n",
            "Simulation;Pretend Play : 0.02256317689530686\n",
            "Puzzle;Creativity : 0.02256317689530686\n",
            "Music;Music & Video : 0.02256317689530686\n",
            "Entertainment;Pretend Play : 0.02256317689530686\n",
            "Casual;Education : 0.02256317689530686\n",
            "Board;Action & Adventure : 0.02256317689530686\n",
            "Video Players & Editors;Creativity : 0.01128158844765343\n",
            "Trivia;Education : 0.01128158844765343\n",
            "Travel & Local;Action & Adventure : 0.01128158844765343\n",
            "Tools;Education : 0.01128158844765343\n",
            "Strategy;Education : 0.01128158844765343\n",
            "Strategy;Creativity : 0.01128158844765343\n",
            "Strategy;Action & Adventure : 0.01128158844765343\n",
            "Simulation;Education : 0.01128158844765343\n",
            "Role Playing;Brain Games : 0.01128158844765343\n",
            "Racing;Pretend Play : 0.01128158844765343\n",
            "Puzzle;Education : 0.01128158844765343\n",
            "Parenting;Brain Games : 0.01128158844765343\n",
            "Music & Audio;Music & Video : 0.01128158844765343\n",
            "Lifestyle;Pretend Play : 0.01128158844765343\n",
            "Lifestyle;Education : 0.01128158844765343\n",
            "Health & Fitness;Education : 0.01128158844765343\n",
            "Health & Fitness;Action & Adventure : 0.01128158844765343\n",
            "Entertainment;Education : 0.01128158844765343\n",
            "Communication;Creativity : 0.01128158844765343\n",
            "Comics;Creativity : 0.01128158844765343\n",
            "Casual;Music & Video : 0.01128158844765343\n",
            "Card;Action & Adventure : 0.01128158844765343\n",
            "Books & Reference;Education : 0.01128158844765343\n",
            "Art & Design;Pretend Play : 0.01128158844765343\n",
            "Art & Design;Action & Adventure : 0.01128158844765343\n",
            "Arcade;Pretend Play : 0.01128158844765343\n",
            "Adventure;Education : 0.01128158844765343\n"
          ]
        }
      ]
    },
    {
      "cell_type": "markdown",
      "source": [
        "The difference between the `Genres` and the `Category` columns is not crystal clear, but one thing we can notice is that the `Genres` column is much more granular (it has more categories). We're only looking for the bigger picture at the moment, so we'll only work with the `Category` column moving forward."
      ],
      "metadata": {
        "id": "zlP5THGOQq2e"
      }
    },
    {
      "cell_type": "markdown",
      "source": [
        "Up to this point, we found that the App Store is dominated by apps designed for fun, while Google Play shows a more balanced landscape of both practical and for-fun apps. Now we'd like to get an idea about the kind of apps that have most users."
      ],
      "metadata": {
        "id": "hux6CmjiQqp1"
      }
    },
    {
      "cell_type": "markdown",
      "source": [
        "<h3> Most Popular Apps by Genre on the App Store </h3>\n",
        "\n",
        "One way to find out what genres are the most popular (have the most users) is to calculate the average number of installs for each app genre. For the Google Play data set, we can find this information in the `Installs` column, but for the App Store data set this information is missing. As a workaround, we'll take the total number of user ratings as a proxy, which we can find in the `rating_count_tot` app.\n",
        "\n",
        "Below, we calculate the average number of user ratings per app genre on the App Store:"
      ],
      "metadata": {
        "id": "uN3CGepdRBJI"
      }
    },
    {
      "cell_type": "code",
      "source": [
        "mds.display_number_user_ratings_per_app_genre_app_store(ios_final)"
      ],
      "metadata": {
        "colab": {
          "base_uri": "https://localhost:8080/"
        },
        "id": "K-zjnC12Q2cR",
        "outputId": "a3b0e085-cee1-457b-f9a8-ab9422f0f085"
      },
      "execution_count": 37,
      "outputs": [
        {
          "output_type": "stream",
          "name": "stdout",
          "text": [
            "Social Networking : 53078.195804195806\n",
            "Photo & Video : 27249.892215568863\n",
            "Games : 18924.68896765618\n",
            "Music : 56482.02985074627\n",
            "Reference : 67447.9\n",
            "Health & Fitness : 19952.315789473683\n",
            "Weather : 47220.93548387097\n",
            "Utilities : 14010.100917431193\n",
            "Travel : 20216.01785714286\n",
            "Shopping : 18746.677685950413\n",
            "News : 15892.724137931034\n",
            "Navigation : 25972.05\n",
            "Lifestyle : 8978.308510638299\n",
            "Entertainment : 10822.961077844311\n",
            "Food & Drink : 20179.093023255813\n",
            "Sports : 20128.974683544304\n",
            "Book : 8498.333333333334\n",
            "Finance : 13522.261904761905\n",
            "Education : 6266.333333333333\n",
            "Productivity : 19053.887096774193\n",
            "Business : 6367.8\n",
            "Catalogs : 1779.5555555555557\n",
            "Medical : 459.75\n"
          ]
        }
      ]
    },
    {
      "cell_type": "markdown",
      "source": [
        "On average, navigation apps have the highest number of user reviews, but this figure is heavily influenced by Waze and Google Maps, which have close to half a million user reviews together:"
      ],
      "metadata": {
        "id": "TytDy4buTgbe"
      }
    },
    {
      "cell_type": "code",
      "source": [
        "for app in ios_final:\n",
        "    if app[-5] == 'Navigation':\n",
        "        print(app[1], ':', app[5]) # print name and number of ratings"
      ],
      "metadata": {
        "colab": {
          "base_uri": "https://localhost:8080/"
        },
        "id": "MTa2bgLITioX",
        "outputId": "1316407e-4355-4040-9c1f-583b768b0f91"
      },
      "execution_count": 38,
      "outputs": [
        {
          "output_type": "stream",
          "name": "stdout",
          "text": [
            "Waze - GPS Navigation, Maps & Real-time Traffic : 345046\n",
            "Google Maps - Navigation & Transit : 154911\n",
            "Geocaching® : 12811\n",
            "CoPilot GPS – Car Navigation & Offline Maps : 3582\n",
            "高德地图（精准专业的手机地图） : 1040\n",
            "百度地图-智能的手机导航，公交地铁出行必备 : 1014\n",
            "百度地图HD : 771\n",
            "ImmobilienScout24: Real Estate Search in Germany : 187\n",
            "ナビタイムの乗り換え案内 - 遅延情報やバス時刻表を案内するアプリ : 48\n",
            "高德地图HD : 26\n",
            "Railway Route Search : 5\n",
            "NAVIRO(ナビロー) - カーナビ/バイクナビ/徒歩ナビが使える高性能ナビアプリ : 0\n",
            "ホラースポット-ghost spot-意味が分かると怖いマップ : 0\n",
            "MapFan(マップファン) – 渋滞情報/オービス/オフライン対応の本格カーナビ : 0\n",
            "JR東日本アプリ : 0\n",
            "えほう - 最強の恵方コンパス : 0\n",
            "バーチャル恵方巻【節分・恵方コンパス・方位】 : 0\n",
            "恵方コンパス. : 0\n",
            "ナビタイム ドライブサポーター - NAVITIMEのカーナビアプリ : 0\n",
            "自転車ナビ by NAVITIME(ナビタイム) - 自転車のナビができるアプリ : 0\n"
          ]
        }
      ]
    },
    {
      "cell_type": "markdown",
      "source": [
        "The same pattern applies to social networking apps, where the average number is heavily influenced by a few giants like Facebook, Pinterest, Skype, etc. Same applies to music apps, where a few big players like Pandora, Spotify, and Shazam heavily influence the average number.\n",
        "\n",
        "Our aim is to find popular genres, but navigation, social networking or music apps might seem more popular than they really are. The average number of ratings seem to be skewed by very few apps which have hundreds of thousands of user ratings, while the other apps may struggle to get past the 10,000 threshold. We could get a better picture by removing these extremely popular apps for each genre and then rework the averages, but we'll leave this level of detail for later.\n",
        "\n",
        "Reference apps have 74,942 user ratings on average, but it's actually the Bible and Dictionary.com which skew up the average rating:"
      ],
      "metadata": {
        "id": "hhzUwRNoTwcN"
      }
    },
    {
      "cell_type": "code",
      "source": [
        "for app in ios_final:\n",
        "    if app[-5] == 'Reference':\n",
        "        print(app[1], ':', app[5])"
      ],
      "metadata": {
        "colab": {
          "base_uri": "https://localhost:8080/"
        },
        "id": "9j8tefOMT1O_",
        "outputId": "31a89fc6-55a8-43aa-d242-42a9083b6761"
      },
      "execution_count": 39,
      "outputs": [
        {
          "output_type": "stream",
          "name": "stdout",
          "text": [
            "Bible : 985920\n",
            "Dictionary.com Dictionary & Thesaurus : 200047\n",
            "Dictionary.com Dictionary & Thesaurus for iPad : 54175\n",
            "Google Translate : 26786\n",
            "Muslim Pro: Ramadan 2017 Prayer Times, Azan, Quran : 18418\n",
            "New Furniture Mods - Pocket Wiki & Game Tools for Minecraft PC Edition : 17588\n",
            "Merriam-Webster Dictionary : 16849\n",
            "Night Sky : 12122\n",
            "City Maps for Minecraft PE - The Best Maps for Minecraft Pocket Edition (MCPE) : 8535\n",
            "LUCKY BLOCK MOD ™ for Minecraft PC Edition - The Best Pocket Wiki & Mods Installer Tools : 4693\n",
            "GUNS MODS for Minecraft PC Edition - Mods Tools : 1497\n",
            "Guides for Pokémon GO - Pokemon GO News and Cheats : 826\n",
            "WWDC : 762\n",
            "Horror Maps for Minecraft PE - Download The Scariest Maps for Minecraft Pocket Edition (MCPE) Free : 718\n",
            "VPN Express : 14\n",
            "Real Bike Traffic Rider Virtual Reality Glasses : 8\n",
            "教えて!goo : 0\n",
            "彩库宝典-【官方版】 : 0\n",
            "Jishokun-Japanese English Dictionary & Translator : 0\n",
            "無料で音楽や写真・カメラの裏技アプリ for iPhone7 : 0\n"
          ]
        }
      ]
    },
    {
      "cell_type": "markdown",
      "source": [
        "However, this niche seems to show some potential. One thing we could do is take another popular book and turn it into an app where we could add different features besides the raw version of the book. This might include daily quotes from the book, an audio version of the book, quizzes about the book, etc. On top of that, we could also embed a dictionary within the app, so users don't need to exit our app to look up words in an external app.\n",
        "\n",
        "This idea seems to fit well with the fact that the App Store is dominated by for-fun apps. This suggests the market might be a bit saturated with for-fun apps, which means a practical app might have more of a chance to stand out among the huge number of apps on the App Store.\n",
        "\n",
        "Other genres that seem popular include weather, book, food and drink, or finance. The book genre seem to overlap a bit with the app idea we described above, but the other genres don't seem too interesting to us:\n",
        "\n",
        "* Weather apps — people generally don't spend too much time in-app, and the chances of making profit from in-app adds are low. Also, getting reliable live weather data may require us to connect our apps to non-free APIs.\n",
        "\n",
        "* Food and drink — examples here include Starbucks, Dunkin' Donuts, McDonald's, etc. So making a popular food and drink app requires actual cooking and a delivery service, which is outside the scope of our company.\n",
        "\n",
        "* Finance apps — these apps involve banking, paying bills, money transfer, etc. Building a finance app requires domain knowledge, and we don't want to hire a finance expert just to build an app.\n",
        "\n",
        "Now let's analyze the Google Play market a bit."
      ],
      "metadata": {
        "id": "KQ57v8FtT62R"
      }
    },
    {
      "cell_type": "markdown",
      "source": [
        "<h3> Most Popular Apps by Genre on Google Play </h3>"
      ],
      "metadata": {
        "id": "ZK73vviZUTTR"
      }
    },
    {
      "cell_type": "markdown",
      "source": [
        "For the Google Play market, we actually have data about the number of installs, so we should be able to get a clearer picture about genre popularity. However, the install numbers don't seem precise enough — we can see that most values are open-ended (100+, 1,000+, 5,000+, etc.):"
      ],
      "metadata": {
        "id": "dlwMNG72UYn_"
      }
    },
    {
      "cell_type": "code",
      "source": [
        "mds.display_table(android_final, 5) # the Installs columns"
      ],
      "metadata": {
        "colab": {
          "base_uri": "https://localhost:8080/"
        },
        "id": "jPmThO97T_jg",
        "outputId": "780e0761-3b24-4e78-ead5-a3f2ccf8b0db"
      },
      "execution_count": 40,
      "outputs": [
        {
          "output_type": "stream",
          "name": "stdout",
          "text": [
            "1,000,000+ : 15.726534296028879\n",
            "100,000+ : 11.552346570397113\n",
            "10,000,000+ : 10.548285198555957\n",
            "10,000+ : 10.198555956678701\n",
            "1,000+ : 8.393501805054152\n",
            "100+ : 6.915613718411552\n",
            "5,000,000+ : 6.825361010830325\n",
            "500,000+ : 5.561823104693141\n",
            "50,000+ : 4.7721119133574\n",
            "5,000+ : 4.512635379061372\n",
            "10+ : 3.5424187725631766\n",
            "500+ : 3.2490974729241873\n",
            "50,000,000+ : 2.3014440433213\n",
            "100,000,000+ : 2.1322202166064983\n",
            "50+ : 1.917870036101083\n",
            "5+ : 0.78971119133574\n",
            "1+ : 0.5076714801444043\n",
            "500,000,000+ : 0.2707581227436823\n",
            "1,000,000,000+ : 0.22563176895306858\n",
            "0+ : 0.04512635379061372\n",
            "0 : 0.01128158844765343\n"
          ]
        }
      ]
    },
    {
      "cell_type": "markdown",
      "source": [
        "One problem with this data is that is not precise. For instance, we don't know whether an app with 100,000+ installs has 100,000 installs, 200,000, or 350,000. However, we don't need very precise data for our purposes — we only want to get an idea which app genres attract the most users, and we don't need perfect precision with respect to the number of users.\n",
        "\n",
        "We're going to leave the numbers as they are, which means that we'll consider that an app with 100,000+ installs has 100,000 installs, and an app with 1,000,000+ installs has 1,000,000 installs, and so on.\n",
        "\n",
        "To perform computations, however, we'll need to convert each install number to float — this means that we need to remove the commas and the plus characters, otherwise the conversion will fail and raise an error. We'll do this directly in the loop below, where we also compute the average number of installs for each genre (category)."
      ],
      "metadata": {
        "id": "XHCosXNIUfKF"
      }
    },
    {
      "cell_type": "code",
      "source": [
        "mds.display_num_mean_downloads_category_android(android_final)"
      ],
      "metadata": {
        "colab": {
          "base_uri": "https://localhost:8080/"
        },
        "id": "F_W6_zGUVsRB",
        "outputId": "d41d45cc-fac4-43a8-bcb0-8720e7ecc9ad"
      },
      "execution_count": 43,
      "outputs": [
        {
          "output_type": "stream",
          "name": "stdout",
          "text": [
            "ART_AND_DESIGN : 1986335.0877192982\n",
            "AUTO_AND_VEHICLES : 647317.8170731707\n",
            "BEAUTY : 513151.88679245283\n",
            "BOOKS_AND_REFERENCE : 8767811.894736841\n",
            "BUSINESS : 1712290.1474201474\n",
            "COMICS : 817657.2727272727\n",
            "COMMUNICATION : 38456119.167247385\n",
            "DATING : 854028.8303030303\n",
            "EDUCATION : 1833495.145631068\n",
            "ENTERTAINMENT : 11640705.88235294\n",
            "EVENTS : 253542.22222222222\n",
            "FINANCE : 1387692.475609756\n",
            "FOOD_AND_DRINK : 1924897.7363636363\n",
            "HEALTH_AND_FITNESS : 4188821.9853479853\n",
            "HOUSE_AND_HOME : 1331540.5616438356\n",
            "LIBRARIES_AND_DEMO : 638503.734939759\n",
            "LIFESTYLE : 1437816.2687861272\n",
            "GAME : 15588015.603248259\n",
            "FAMILY : 3695641.8198090694\n",
            "MEDICAL : 120550.61980830671\n",
            "SOCIAL : 23253652.127118643\n",
            "SHOPPING : 7036877.311557789\n",
            "PHOTOGRAPHY : 17840110.40229885\n",
            "SPORTS : 3638640.1428571427\n",
            "TRAVEL_AND_LOCAL : 13984077.710144928\n",
            "TOOLS : 10801391.298666667\n",
            "PERSONALIZATION : 5201482.6122448975\n",
            "PRODUCTIVITY : 16787331.344927534\n",
            "PARENTING : 542603.6206896552\n",
            "WEATHER : 5074486.197183099\n",
            "VIDEO_PLAYERS : 24727872.452830188\n",
            "NEWS_AND_MAGAZINES : 9549178.467741935\n",
            "MAPS_AND_NAVIGATION : 4056941.7741935486\n"
          ]
        }
      ]
    },
    {
      "cell_type": "markdown",
      "source": [
        "\n",
        "On average, communication apps have the most installs: 38,456,119. This number is heavily skewed up by a few apps that have over one billion installs (WhatsApp, Facebook Messenger, Skype, Google Chrome, Gmail, and Hangouts), and a few others with over 100 and 500 million installs:"
      ],
      "metadata": {
        "id": "LiV5oYYfXFnT"
      }
    },
    {
      "cell_type": "code",
      "source": [
        "for app in android_final:\n",
        "    if app[1] == 'COMMUNICATION' and (app[5] == '1,000,000,000+'\n",
        "                                      or app[5] == '500,000,000+'\n",
        "                                      or app[5] == '100,000,000+'):\n",
        "        print(app[0], ':', app[5])"
      ],
      "metadata": {
        "colab": {
          "base_uri": "https://localhost:8080/"
        },
        "id": "Ata17qRGXHG3",
        "outputId": "5beeb1e1-00bd-4480-945a-2186d5cef092"
      },
      "execution_count": 44,
      "outputs": [
        {
          "output_type": "stream",
          "name": "stdout",
          "text": [
            "WhatsApp Messenger : 1,000,000,000+\n",
            "imo beta free calls and text : 100,000,000+\n",
            "Android Messages : 100,000,000+\n",
            "Google Duo - High Quality Video Calls : 500,000,000+\n",
            "Messenger – Text and Video Chat for Free : 1,000,000,000+\n",
            "imo free video calls and chat : 500,000,000+\n",
            "Skype - free IM & video calls : 1,000,000,000+\n",
            "Who : 100,000,000+\n",
            "GO SMS Pro - Messenger, Free Themes, Emoji : 100,000,000+\n",
            "LINE: Free Calls & Messages : 500,000,000+\n",
            "Google Chrome: Fast & Secure : 1,000,000,000+\n",
            "Firefox Browser fast & private : 100,000,000+\n",
            "UC Browser - Fast Download Private & Secure : 500,000,000+\n",
            "Gmail : 1,000,000,000+\n",
            "Hangouts : 1,000,000,000+\n",
            "Messenger Lite: Free Calls & Messages : 100,000,000+\n",
            "Kik : 100,000,000+\n",
            "KakaoTalk: Free Calls & Text : 100,000,000+\n",
            "Opera Mini - fast web browser : 100,000,000+\n",
            "Opera Browser: Fast and Secure : 100,000,000+\n",
            "Telegram : 100,000,000+\n",
            "Truecaller: Caller ID, SMS spam blocking & Dialer : 100,000,000+\n",
            "UC Browser Mini -Tiny Fast Private & Secure : 100,000,000+\n",
            "Viber Messenger : 500,000,000+\n",
            "WeChat : 100,000,000+\n",
            "Yahoo Mail – Stay Organized : 100,000,000+\n",
            "BBM - Free Calls & Messages : 100,000,000+\n"
          ]
        }
      ]
    },
    {
      "cell_type": "markdown",
      "source": [
        "\n",
        "If we removed all the communication apps that have over 100 million installs, the average would be reduced roughly ten times:"
      ],
      "metadata": {
        "id": "xZdfga4nXMSW"
      }
    },
    {
      "cell_type": "code",
      "source": [
        "under_100_m = []\n",
        "\n",
        "for app in android_final:\n",
        "    n_installs = app[5]\n",
        "    n_installs = n_installs.replace(',', '')\n",
        "    n_installs = n_installs.replace('+', '')\n",
        "    if (app[1] == 'COMMUNICATION') and (float(n_installs) < 100000000):\n",
        "        under_100_m.append(float(n_installs))\n",
        "        \n",
        "sum(under_100_m) / len(under_100_m)"
      ],
      "metadata": {
        "colab": {
          "base_uri": "https://localhost:8080/"
        },
        "id": "rEteSjRYXNI_",
        "outputId": "326089ee-bb1d-4789-a583-08eec1393953"
      },
      "execution_count": 45,
      "outputs": [
        {
          "output_type": "execute_result",
          "data": {
            "text/plain": [
              "3603485.3884615386"
            ]
          },
          "metadata": {},
          "execution_count": 45
        }
      ]
    },
    {
      "cell_type": "markdown",
      "source": [
        "We see the same pattern for the video players category, which is the runner-up with 24,727,872 installs. The market is dominated by apps like Youtube, Google Play Movies & TV, or MX Player. The pattern is repeated for social apps (where we have giants like Facebook, Instagram, Google+, etc.), photography apps (Google Photos and other popular photo editors), or productivity apps (Microsoft Word, Dropbox, Google Calendar, Evernote, etc.).\n",
        "\n",
        "Again, the main concern is that these app genres might seem more popular than they really are. Moreover, these niches seem to be dominated by a few giants who are hard to compete against.\n",
        "\n",
        "The game genre seems pretty popular, but previously we found out this part of the market seems a bit saturated, so we'd like to come up with a different app recommendation if possible.\n",
        "\n",
        "The books and reference genre looks fairly popular as well, with an average number of installs of 8,767,811. It's interesting to explore this in more depth, since we found this genre has some potential to work well on the App Store, and our aim is to recommend an app genre that shows potential for being profitable on both the App Store and Google Play.\n",
        "\n",
        "Let's take a look at some of the apps from this genre and their number of installs:"
      ],
      "metadata": {
        "id": "rUgRhMaOXXfi"
      }
    },
    {
      "cell_type": "code",
      "source": [
        "for app in android_final:\n",
        "    if app[1] == 'BOOKS_AND_REFERENCE':\n",
        "        print(app[0], ':', app[5])"
      ],
      "metadata": {
        "id": "z3i7R-KYXY94"
      },
      "execution_count": null,
      "outputs": []
    },
    {
      "cell_type": "markdown",
      "source": [
        "The book and reference genre includes a variety of apps: software for processing and reading ebooks, various collections of libraries, dictionaries, tutorials on programming or languages, etc. It seems there's still a small number of extremely popular apps that skew the average:"
      ],
      "metadata": {
        "id": "o4TEp4JqXizQ"
      }
    },
    {
      "cell_type": "code",
      "source": [
        "for app in android_final:\n",
        "    if app[1] == 'BOOKS_AND_REFERENCE' and (app[5] == '1,000,000,000+'\n",
        "                                            or app[5] == '500,000,000+'\n",
        "                                            or app[5] == '100,000,000+'):\n",
        "        print(app[0], ':', app[5])"
      ],
      "metadata": {
        "colab": {
          "base_uri": "https://localhost:8080/"
        },
        "id": "pHQ3am4gXY52",
        "outputId": "5f5c955a-d9de-4e19-e65c-105344670022"
      },
      "execution_count": 46,
      "outputs": [
        {
          "output_type": "stream",
          "name": "stdout",
          "text": [
            "Google Play Books : 1,000,000,000+\n",
            "Bible : 100,000,000+\n",
            "Amazon Kindle : 100,000,000+\n",
            "Wattpad 📖 Free Books : 100,000,000+\n",
            "Audiobooks from Audible : 100,000,000+\n"
          ]
        }
      ]
    },
    {
      "cell_type": "markdown",
      "source": [
        "However, it looks like there are only a few very popular apps, so this market still shows potential. Let's try to get some app ideas based on the kind of apps that are somewhere in the middle in terms of popularity (between 1,000,000 and 100,000,000 downloads):"
      ],
      "metadata": {
        "id": "Y_jZ3C28XmIB"
      }
    },
    {
      "cell_type": "code",
      "source": [
        "for app in android_final:\n",
        "    if app[1] == 'BOOKS_AND_REFERENCE' and (app[5] == '1,000,000+'\n",
        "                                            or app[5] == '5,000,000+'\n",
        "                                            or app[5] == '10,000,000+'\n",
        "                                            or app[5] == '50,000,000+'):\n",
        "        print(app[0], ':', app[5])"
      ],
      "metadata": {
        "colab": {
          "base_uri": "https://localhost:8080/"
        },
        "id": "G52FM5X6XsNb",
        "outputId": "040f70b0-1cb6-4f98-e6d8-5cb88efa50cb"
      },
      "execution_count": 47,
      "outputs": [
        {
          "output_type": "stream",
          "name": "stdout",
          "text": [
            "Wikipedia : 10,000,000+\n",
            "Cool Reader : 10,000,000+\n",
            "Book store : 1,000,000+\n",
            "FBReader: Favorite Book Reader : 10,000,000+\n",
            "Free Books - Spirit Fanfiction and Stories : 1,000,000+\n",
            "AlReader -any text book reader : 5,000,000+\n",
            "FamilySearch Tree : 1,000,000+\n",
            "Cloud of Books : 1,000,000+\n",
            "ReadEra – free ebook reader : 1,000,000+\n",
            "Ebook Reader : 5,000,000+\n",
            "Read books online : 5,000,000+\n",
            "eBoox: book reader fb2 epub zip : 1,000,000+\n",
            "All Maths Formulas : 1,000,000+\n",
            "Ancestry : 5,000,000+\n",
            "HTC Help : 10,000,000+\n",
            "Moon+ Reader : 10,000,000+\n",
            "English-Myanmar Dictionary : 1,000,000+\n",
            "Golden Dictionary (EN-AR) : 1,000,000+\n",
            "All Language Translator Free : 1,000,000+\n",
            "Aldiko Book Reader : 10,000,000+\n",
            "Dictionary - WordWeb : 5,000,000+\n",
            "50000 Free eBooks & Free AudioBooks : 5,000,000+\n",
            "Al-Quran (Free) : 10,000,000+\n",
            "Al Quran Indonesia : 10,000,000+\n",
            "Al'Quran Bahasa Indonesia : 10,000,000+\n",
            "Al Quran Al karim : 1,000,000+\n",
            "Al Quran : EAlim - Translations & MP3 Offline : 5,000,000+\n",
            "Koran Read &MP3 30 Juz Offline : 1,000,000+\n",
            "Hafizi Quran 15 lines per page : 1,000,000+\n",
            "Quran for Android : 10,000,000+\n",
            "Satellite AR : 1,000,000+\n",
            "Oxford A-Z of English Usage : 1,000,000+\n",
            "Dictionary.com: Find Definitions for English Words : 10,000,000+\n",
            "English Dictionary - Offline : 10,000,000+\n",
            "Bible KJV : 5,000,000+\n",
            "NOOK: Read eBooks & Magazines : 10,000,000+\n",
            "Brilliant Quotes: Life, Love, Family & Motivation : 1,000,000+\n",
            "Stats Royale for Clash Royale : 1,000,000+\n",
            "Dictionary : 10,000,000+\n",
            "wikiHow: how to do anything : 1,000,000+\n",
            "EGW Writings : 1,000,000+\n",
            "My Little Pony AR Guide : 1,000,000+\n",
            "Spanish English Translator : 10,000,000+\n",
            "Dictionary - Merriam-Webster : 10,000,000+\n",
            "JW Library : 10,000,000+\n",
            "Oxford Dictionary of English : Free : 10,000,000+\n",
            "English Hindi Dictionary : 10,000,000+\n",
            "English to Hindi Dictionary : 5,000,000+\n"
          ]
        }
      ]
    },
    {
      "cell_type": "markdown",
      "source": [
        "This niche seems to be dominated by software for processing and reading ebooks, as well as various collections of libraries and dictionaries, so it's probably not a good idea to build similar apps since there'll be some significant competition.\n",
        "\n",
        "We also notice there are quite a few apps built around the book Quran, which suggests that building an app around a popular book can be profitable. It seems that taking a popular book (perhaps a more recent book) and turning it into an app could be profitable for both the Google Play and the App Store markets.\n",
        "\n",
        "However, it looks like the market is already full of libraries, so we need to add some special features besides the raw version of the book. This might include daily quotes from the book, an audio version of the book, quizzes on the book, a forum where people can discuss the book, etc."
      ],
      "metadata": {
        "id": "2or_uqmSX1P5"
      }
    },
    {
      "cell_type": "markdown",
      "source": [
        "<h3> Conclusions </h3>\n",
        "\n",
        "In this project, we analyzed data about the App Store and Google Play mobile apps with the goal of recommending an app profile that can be profitable for both markets.\n",
        "\n",
        "We concluded that taking a popular book (perhaps a more recent book) and turning it into an app could be profitable for both the Google Play and the App Store markets. The markets are already full of libraries, so we need to add some special features besides the raw version of the book. This might include daily quotes from the book, an audio version of the book, quizzes on the book, a forum where people can discuss the book, etc."
      ],
      "metadata": {
        "id": "Xfze9FhDX4oJ"
      }
    }
  ]
}